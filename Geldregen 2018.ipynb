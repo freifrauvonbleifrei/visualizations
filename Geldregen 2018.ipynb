{
 "cells": [
  {
   "cell_type": "code",
   "execution_count": 1,
   "metadata": {
    "slideshow": {
     "slide_type": "notes"
    }
   },
   "outputs": [
    {
     "data": {
      "text/html": [
       "\n",
       "    <div class=\"bk-root\">\n",
       "        <a href=\"https://bokeh.pydata.org\" target=\"_blank\" class=\"bk-logo bk-logo-small bk-logo-notebook\"></a>\n",
       "        <span id=\"4d79e266-08bd-4874-be5a-b5585b9be08f\">Loading BokehJS ...</span>\n",
       "    </div>"
      ]
     },
     "metadata": {},
     "output_type": "display_data"
    },
    {
     "data": {
      "application/javascript": [
       "\n",
       "(function(root) {\n",
       "  function now() {\n",
       "    return new Date();\n",
       "  }\n",
       "\n",
       "  var force = true;\n",
       "\n",
       "  if (typeof (root._bokeh_onload_callbacks) === \"undefined\" || force === true) {\n",
       "    root._bokeh_onload_callbacks = [];\n",
       "    root._bokeh_is_loading = undefined;\n",
       "  }\n",
       "\n",
       "  var JS_MIME_TYPE = 'application/javascript';\n",
       "  var HTML_MIME_TYPE = 'text/html';\n",
       "  var EXEC_MIME_TYPE = 'application/vnd.bokehjs_exec.v0+json';\n",
       "  var CLASS_NAME = 'output_bokeh rendered_html';\n",
       "\n",
       "  /**\n",
       "   * Render data to the DOM node\n",
       "   */\n",
       "  function render(props, node) {\n",
       "    var script = document.createElement(\"script\");\n",
       "    node.appendChild(script);\n",
       "  }\n",
       "\n",
       "  /**\n",
       "   * Handle when an output is cleared or removed\n",
       "   */\n",
       "  function handleClearOutput(event, handle) {\n",
       "    var cell = handle.cell;\n",
       "\n",
       "    var id = cell.output_area._bokeh_element_id;\n",
       "    var server_id = cell.output_area._bokeh_server_id;\n",
       "    // Clean up Bokeh references\n",
       "    if (id != null && id in Bokeh.index) {\n",
       "      Bokeh.index[id].model.document.clear();\n",
       "      delete Bokeh.index[id];\n",
       "    }\n",
       "\n",
       "    if (server_id !== undefined) {\n",
       "      // Clean up Bokeh references\n",
       "      var cmd = \"from bokeh.io.state import curstate; print(curstate().uuid_to_server['\" + server_id + \"'].get_sessions()[0].document.roots[0]._id)\";\n",
       "      cell.notebook.kernel.execute(cmd, {\n",
       "        iopub: {\n",
       "          output: function(msg) {\n",
       "            var id = msg.content.text.trim();\n",
       "            if (id in Bokeh.index) {\n",
       "              Bokeh.index[id].model.document.clear();\n",
       "              delete Bokeh.index[id];\n",
       "            }\n",
       "          }\n",
       "        }\n",
       "      });\n",
       "      // Destroy server and session\n",
       "      var cmd = \"import bokeh.io.notebook as ion; ion.destroy_server('\" + server_id + \"')\";\n",
       "      cell.notebook.kernel.execute(cmd);\n",
       "    }\n",
       "  }\n",
       "\n",
       "  /**\n",
       "   * Handle when a new output is added\n",
       "   */\n",
       "  function handleAddOutput(event, handle) {\n",
       "    var output_area = handle.output_area;\n",
       "    var output = handle.output;\n",
       "\n",
       "    // limit handleAddOutput to display_data with EXEC_MIME_TYPE content only\n",
       "    if ((output.output_type != \"display_data\") || (!output.data.hasOwnProperty(EXEC_MIME_TYPE))) {\n",
       "      return\n",
       "    }\n",
       "\n",
       "    var toinsert = output_area.element.find(\".\" + CLASS_NAME.split(' ')[0]);\n",
       "\n",
       "    if (output.metadata[EXEC_MIME_TYPE][\"id\"] !== undefined) {\n",
       "      toinsert[toinsert.length - 1].firstChild.textContent = output.data[JS_MIME_TYPE];\n",
       "      // store reference to embed id on output_area\n",
       "      output_area._bokeh_element_id = output.metadata[EXEC_MIME_TYPE][\"id\"];\n",
       "    }\n",
       "    if (output.metadata[EXEC_MIME_TYPE][\"server_id\"] !== undefined) {\n",
       "      var bk_div = document.createElement(\"div\");\n",
       "      bk_div.innerHTML = output.data[HTML_MIME_TYPE];\n",
       "      var script_attrs = bk_div.children[0].attributes;\n",
       "      for (var i = 0; i < script_attrs.length; i++) {\n",
       "        toinsert[toinsert.length - 1].firstChild.setAttribute(script_attrs[i].name, script_attrs[i].value);\n",
       "      }\n",
       "      // store reference to server id on output_area\n",
       "      output_area._bokeh_server_id = output.metadata[EXEC_MIME_TYPE][\"server_id\"];\n",
       "    }\n",
       "  }\n",
       "\n",
       "  function register_renderer(events, OutputArea) {\n",
       "\n",
       "    function append_mime(data, metadata, element) {\n",
       "      // create a DOM node to render to\n",
       "      var toinsert = this.create_output_subarea(\n",
       "        metadata,\n",
       "        CLASS_NAME,\n",
       "        EXEC_MIME_TYPE\n",
       "      );\n",
       "      this.keyboard_manager.register_events(toinsert);\n",
       "      // Render to node\n",
       "      var props = {data: data, metadata: metadata[EXEC_MIME_TYPE]};\n",
       "      render(props, toinsert[toinsert.length - 1]);\n",
       "      element.append(toinsert);\n",
       "      return toinsert\n",
       "    }\n",
       "\n",
       "    /* Handle when an output is cleared or removed */\n",
       "    events.on('clear_output.CodeCell', handleClearOutput);\n",
       "    events.on('delete.Cell', handleClearOutput);\n",
       "\n",
       "    /* Handle when a new output is added */\n",
       "    events.on('output_added.OutputArea', handleAddOutput);\n",
       "\n",
       "    /**\n",
       "     * Register the mime type and append_mime function with output_area\n",
       "     */\n",
       "    OutputArea.prototype.register_mime_type(EXEC_MIME_TYPE, append_mime, {\n",
       "      /* Is output safe? */\n",
       "      safe: true,\n",
       "      /* Index of renderer in `output_area.display_order` */\n",
       "      index: 0\n",
       "    });\n",
       "  }\n",
       "\n",
       "  // register the mime type if in Jupyter Notebook environment and previously unregistered\n",
       "  if (root.Jupyter !== undefined) {\n",
       "    var events = require('base/js/events');\n",
       "    var OutputArea = require('notebook/js/outputarea').OutputArea;\n",
       "\n",
       "    if (OutputArea.prototype.mime_types().indexOf(EXEC_MIME_TYPE) == -1) {\n",
       "      register_renderer(events, OutputArea);\n",
       "    }\n",
       "  }\n",
       "\n",
       "  \n",
       "  if (typeof (root._bokeh_timeout) === \"undefined\" || force === true) {\n",
       "    root._bokeh_timeout = Date.now() + 5000;\n",
       "    root._bokeh_failed_load = false;\n",
       "  }\n",
       "\n",
       "  var NB_LOAD_WARNING = {'data': {'text/html':\n",
       "     \"<div style='background-color: #fdd'>\\n\"+\n",
       "     \"<p>\\n\"+\n",
       "     \"BokehJS does not appear to have successfully loaded. If loading BokehJS from CDN, this \\n\"+\n",
       "     \"may be due to a slow or bad network connection. Possible fixes:\\n\"+\n",
       "     \"</p>\\n\"+\n",
       "     \"<ul>\\n\"+\n",
       "     \"<li>re-rerun `output_notebook()` to attempt to load from CDN again, or</li>\\n\"+\n",
       "     \"<li>use INLINE resources instead, as so:</li>\\n\"+\n",
       "     \"</ul>\\n\"+\n",
       "     \"<code>\\n\"+\n",
       "     \"from bokeh.resources import INLINE\\n\"+\n",
       "     \"output_notebook(resources=INLINE)\\n\"+\n",
       "     \"</code>\\n\"+\n",
       "     \"</div>\"}};\n",
       "\n",
       "  function display_loaded() {\n",
       "    var el = document.getElementById(\"4d79e266-08bd-4874-be5a-b5585b9be08f\");\n",
       "    if (el != null) {\n",
       "      el.textContent = \"BokehJS is loading...\";\n",
       "    }\n",
       "    if (root.Bokeh !== undefined) {\n",
       "      if (el != null) {\n",
       "        el.textContent = \"BokehJS \" + root.Bokeh.version + \" successfully loaded.\";\n",
       "      }\n",
       "    } else if (Date.now() < root._bokeh_timeout) {\n",
       "      setTimeout(display_loaded, 100)\n",
       "    }\n",
       "  }\n",
       "\n",
       "\n",
       "  function run_callbacks() {\n",
       "    try {\n",
       "      root._bokeh_onload_callbacks.forEach(function(callback) { callback() });\n",
       "    }\n",
       "    finally {\n",
       "      delete root._bokeh_onload_callbacks\n",
       "    }\n",
       "    console.info(\"Bokeh: all callbacks have finished\");\n",
       "  }\n",
       "\n",
       "  function load_libs(js_urls, callback) {\n",
       "    root._bokeh_onload_callbacks.push(callback);\n",
       "    if (root._bokeh_is_loading > 0) {\n",
       "      console.log(\"Bokeh: BokehJS is being loaded, scheduling callback at\", now());\n",
       "      return null;\n",
       "    }\n",
       "    if (js_urls == null || js_urls.length === 0) {\n",
       "      run_callbacks();\n",
       "      return null;\n",
       "    }\n",
       "    console.log(\"Bokeh: BokehJS not loaded, scheduling load and callback at\", now());\n",
       "    root._bokeh_is_loading = js_urls.length;\n",
       "    for (var i = 0; i < js_urls.length; i++) {\n",
       "      var url = js_urls[i];\n",
       "      var s = document.createElement('script');\n",
       "      s.src = url;\n",
       "      s.async = false;\n",
       "      s.onreadystatechange = s.onload = function() {\n",
       "        root._bokeh_is_loading--;\n",
       "        if (root._bokeh_is_loading === 0) {\n",
       "          console.log(\"Bokeh: all BokehJS libraries loaded\");\n",
       "          run_callbacks()\n",
       "        }\n",
       "      };\n",
       "      s.onerror = function() {\n",
       "        console.warn(\"failed to load library \" + url);\n",
       "      };\n",
       "      console.log(\"Bokeh: injecting script tag for BokehJS library: \", url);\n",
       "      document.getElementsByTagName(\"head\")[0].appendChild(s);\n",
       "    }\n",
       "  };var element = document.getElementById(\"4d79e266-08bd-4874-be5a-b5585b9be08f\");\n",
       "  if (element == null) {\n",
       "    console.log(\"Bokeh: ERROR: autoload.js configured with elementid '4d79e266-08bd-4874-be5a-b5585b9be08f' but no matching script tag was found. \")\n",
       "    return false;\n",
       "  }\n",
       "\n",
       "  var js_urls = [\"https://cdn.pydata.org/bokeh/release/bokeh-0.13.0.min.js\", \"https://cdn.pydata.org/bokeh/release/bokeh-widgets-0.13.0.min.js\", \"https://cdn.pydata.org/bokeh/release/bokeh-tables-0.13.0.min.js\", \"https://cdn.pydata.org/bokeh/release/bokeh-gl-0.13.0.min.js\"];\n",
       "\n",
       "  var inline_js = [\n",
       "    function(Bokeh) {\n",
       "      Bokeh.set_log_level(\"info\");\n",
       "    },\n",
       "    \n",
       "    function(Bokeh) {\n",
       "      \n",
       "    },\n",
       "    function(Bokeh) {\n",
       "      console.log(\"Bokeh: injecting CSS: https://cdn.pydata.org/bokeh/release/bokeh-0.13.0.min.css\");\n",
       "      Bokeh.embed.inject_css(\"https://cdn.pydata.org/bokeh/release/bokeh-0.13.0.min.css\");\n",
       "      console.log(\"Bokeh: injecting CSS: https://cdn.pydata.org/bokeh/release/bokeh-widgets-0.13.0.min.css\");\n",
       "      Bokeh.embed.inject_css(\"https://cdn.pydata.org/bokeh/release/bokeh-widgets-0.13.0.min.css\");\n",
       "      console.log(\"Bokeh: injecting CSS: https://cdn.pydata.org/bokeh/release/bokeh-tables-0.13.0.min.css\");\n",
       "      Bokeh.embed.inject_css(\"https://cdn.pydata.org/bokeh/release/bokeh-tables-0.13.0.min.css\");\n",
       "    }\n",
       "  ];\n",
       "\n",
       "  function run_inline_js() {\n",
       "    \n",
       "    if ((root.Bokeh !== undefined) || (force === true)) {\n",
       "      for (var i = 0; i < inline_js.length; i++) {\n",
       "        inline_js[i].call(root, root.Bokeh);\n",
       "      }if (force === true) {\n",
       "        display_loaded();\n",
       "      }} else if (Date.now() < root._bokeh_timeout) {\n",
       "      setTimeout(run_inline_js, 100);\n",
       "    } else if (!root._bokeh_failed_load) {\n",
       "      console.log(\"Bokeh: BokehJS failed to load within specified timeout.\");\n",
       "      root._bokeh_failed_load = true;\n",
       "    } else if (force !== true) {\n",
       "      var cell = $(document.getElementById(\"4d79e266-08bd-4874-be5a-b5585b9be08f\")).parents('.cell').data().cell;\n",
       "      cell.output_area.append_execute_result(NB_LOAD_WARNING)\n",
       "    }\n",
       "\n",
       "  }\n",
       "\n",
       "  if (root._bokeh_is_loading === 0) {\n",
       "    console.log(\"Bokeh: BokehJS loaded, going straight to plotting\");\n",
       "    run_inline_js();\n",
       "  } else {\n",
       "    load_libs(js_urls, function() {\n",
       "      console.log(\"Bokeh: BokehJS plotting callback run at\", now());\n",
       "      run_inline_js();\n",
       "    });\n",
       "  }\n",
       "}(window));"
      ],
      "application/vnd.bokehjs_load.v0+json": "\n(function(root) {\n  function now() {\n    return new Date();\n  }\n\n  var force = true;\n\n  if (typeof (root._bokeh_onload_callbacks) === \"undefined\" || force === true) {\n    root._bokeh_onload_callbacks = [];\n    root._bokeh_is_loading = undefined;\n  }\n\n  \n\n  \n  if (typeof (root._bokeh_timeout) === \"undefined\" || force === true) {\n    root._bokeh_timeout = Date.now() + 5000;\n    root._bokeh_failed_load = false;\n  }\n\n  var NB_LOAD_WARNING = {'data': {'text/html':\n     \"<div style='background-color: #fdd'>\\n\"+\n     \"<p>\\n\"+\n     \"BokehJS does not appear to have successfully loaded. If loading BokehJS from CDN, this \\n\"+\n     \"may be due to a slow or bad network connection. Possible fixes:\\n\"+\n     \"</p>\\n\"+\n     \"<ul>\\n\"+\n     \"<li>re-rerun `output_notebook()` to attempt to load from CDN again, or</li>\\n\"+\n     \"<li>use INLINE resources instead, as so:</li>\\n\"+\n     \"</ul>\\n\"+\n     \"<code>\\n\"+\n     \"from bokeh.resources import INLINE\\n\"+\n     \"output_notebook(resources=INLINE)\\n\"+\n     \"</code>\\n\"+\n     \"</div>\"}};\n\n  function display_loaded() {\n    var el = document.getElementById(\"4d79e266-08bd-4874-be5a-b5585b9be08f\");\n    if (el != null) {\n      el.textContent = \"BokehJS is loading...\";\n    }\n    if (root.Bokeh !== undefined) {\n      if (el != null) {\n        el.textContent = \"BokehJS \" + root.Bokeh.version + \" successfully loaded.\";\n      }\n    } else if (Date.now() < root._bokeh_timeout) {\n      setTimeout(display_loaded, 100)\n    }\n  }\n\n\n  function run_callbacks() {\n    try {\n      root._bokeh_onload_callbacks.forEach(function(callback) { callback() });\n    }\n    finally {\n      delete root._bokeh_onload_callbacks\n    }\n    console.info(\"Bokeh: all callbacks have finished\");\n  }\n\n  function load_libs(js_urls, callback) {\n    root._bokeh_onload_callbacks.push(callback);\n    if (root._bokeh_is_loading > 0) {\n      console.log(\"Bokeh: BokehJS is being loaded, scheduling callback at\", now());\n      return null;\n    }\n    if (js_urls == null || js_urls.length === 0) {\n      run_callbacks();\n      return null;\n    }\n    console.log(\"Bokeh: BokehJS not loaded, scheduling load and callback at\", now());\n    root._bokeh_is_loading = js_urls.length;\n    for (var i = 0; i < js_urls.length; i++) {\n      var url = js_urls[i];\n      var s = document.createElement('script');\n      s.src = url;\n      s.async = false;\n      s.onreadystatechange = s.onload = function() {\n        root._bokeh_is_loading--;\n        if (root._bokeh_is_loading === 0) {\n          console.log(\"Bokeh: all BokehJS libraries loaded\");\n          run_callbacks()\n        }\n      };\n      s.onerror = function() {\n        console.warn(\"failed to load library \" + url);\n      };\n      console.log(\"Bokeh: injecting script tag for BokehJS library: \", url);\n      document.getElementsByTagName(\"head\")[0].appendChild(s);\n    }\n  };var element = document.getElementById(\"4d79e266-08bd-4874-be5a-b5585b9be08f\");\n  if (element == null) {\n    console.log(\"Bokeh: ERROR: autoload.js configured with elementid '4d79e266-08bd-4874-be5a-b5585b9be08f' but no matching script tag was found. \")\n    return false;\n  }\n\n  var js_urls = [\"https://cdn.pydata.org/bokeh/release/bokeh-0.13.0.min.js\", \"https://cdn.pydata.org/bokeh/release/bokeh-widgets-0.13.0.min.js\", \"https://cdn.pydata.org/bokeh/release/bokeh-tables-0.13.0.min.js\", \"https://cdn.pydata.org/bokeh/release/bokeh-gl-0.13.0.min.js\"];\n\n  var inline_js = [\n    function(Bokeh) {\n      Bokeh.set_log_level(\"info\");\n    },\n    \n    function(Bokeh) {\n      \n    },\n    function(Bokeh) {\n      console.log(\"Bokeh: injecting CSS: https://cdn.pydata.org/bokeh/release/bokeh-0.13.0.min.css\");\n      Bokeh.embed.inject_css(\"https://cdn.pydata.org/bokeh/release/bokeh-0.13.0.min.css\");\n      console.log(\"Bokeh: injecting CSS: https://cdn.pydata.org/bokeh/release/bokeh-widgets-0.13.0.min.css\");\n      Bokeh.embed.inject_css(\"https://cdn.pydata.org/bokeh/release/bokeh-widgets-0.13.0.min.css\");\n      console.log(\"Bokeh: injecting CSS: https://cdn.pydata.org/bokeh/release/bokeh-tables-0.13.0.min.css\");\n      Bokeh.embed.inject_css(\"https://cdn.pydata.org/bokeh/release/bokeh-tables-0.13.0.min.css\");\n    }\n  ];\n\n  function run_inline_js() {\n    \n    if ((root.Bokeh !== undefined) || (force === true)) {\n      for (var i = 0; i < inline_js.length; i++) {\n        inline_js[i].call(root, root.Bokeh);\n      }if (force === true) {\n        display_loaded();\n      }} else if (Date.now() < root._bokeh_timeout) {\n      setTimeout(run_inline_js, 100);\n    } else if (!root._bokeh_failed_load) {\n      console.log(\"Bokeh: BokehJS failed to load within specified timeout.\");\n      root._bokeh_failed_load = true;\n    } else if (force !== true) {\n      var cell = $(document.getElementById(\"4d79e266-08bd-4874-be5a-b5585b9be08f\")).parents('.cell').data().cell;\n      cell.output_area.append_execute_result(NB_LOAD_WARNING)\n    }\n\n  }\n\n  if (root._bokeh_is_loading === 0) {\n    console.log(\"Bokeh: BokehJS loaded, going straight to plotting\");\n    run_inline_js();\n  } else {\n    load_libs(js_urls, function() {\n      console.log(\"Bokeh: BokehJS plotting callback run at\", now());\n      run_inline_js();\n    });\n  }\n}(window));"
     },
     "metadata": {},
     "output_type": "display_data"
    }
   ],
   "source": [
    "from math import pi, sqrt\n",
    "import pandas as pd\n",
    "from bokeh.plotting import output_notebook, figure, show\n",
    "from bokeh.palettes import Category20c, Spectral6\n",
    "from bokeh.transform import cumsum\n",
    "output_notebook()"
   ]
  },
  {
   "cell_type": "code",
   "execution_count": 2,
   "metadata": {
    "slideshow": {
     "slide_type": "notes"
    }
   },
   "outputs": [],
   "source": [
    "million = 1000000\n",
    "schulden_ende_2016 = 19 * million # laut antrag d. grünen\n",
    "geldregen_2017 = 382.7 * million\n",
    "geldregen_2018_erwartet = 89.9 * million + 167 * million\n",
    "umfang_haushalt_2018 = 3215.894328 * million"
   ]
  },
  {
   "cell_type": "code",
   "execution_count": 3,
   "metadata": {
    "slideshow": {
     "slide_type": "notes"
    }
   },
   "outputs": [],
   "source": [
    "def radius_relative(x):\n",
    "    # die flächen der kreise sollen im richtigen verhältnis stehen\n",
    "    faktor = x / geldregen_2017  # = (r^2 * pi) / (R^2 * pi) = r^2 / R^2 = (r/R)^2\n",
    "    r = sqrt(faktor)\n",
    "    return r"
   ]
  },
  {
   "cell_type": "code",
   "execution_count": 4,
   "metadata": {
    "slideshow": {
     "slide_type": "notes"
    }
   },
   "outputs": [],
   "source": [
    "palette = Category20c[20]\n",
    "\n",
    "kategorien = {\"Wohnen\":            palette[2],\n",
    "              \"Straßenbau\":        palette[1],\n",
    "              \"Krankenhaus\":       palette[3],\n",
    "              \"Energiesparen\" :    palette[9], \n",
    "              \"ÖPNV\":              palette[10], \n",
    "              \"Fuß- & Radverkehr\": palette[11], \n",
    "              \"Kultur\" :           palette[5], \n",
    "              \"Bäder\" :            palette[6], \n",
    "              \"Soziales\" :         palette[7],\n",
    "              \"Schuldentilgung\" :  palette[13],\n",
    "}\n",
    "\n",
    "scale = 0.6\n",
    "\n",
    "def kuchen(x):\n",
    "    data = pd.DataFrame(x).T.rename(columns={'index':'Zweck'}).rename(columns={0:'value'}).rename(columns={1:'color'})\n",
    "    Summe = data['value'].sum()\n",
    "    data['angle'] = data['value']/Summe * 2*pi\n",
    "    data[\"color\"].replace(kategorien, inplace=True)\n",
    "    \n",
    "    scale = 0.6\n",
    "    \n",
    "    p = figure(plot_height=500, title=\"Pie Chart\", toolbar_location=\"above\",\n",
    "               tools=\"hover\", tooltips=\"@index: @value{($ 0.00 a)}\")\n",
    "    \n",
    "    cdata = pd.DataFrame({\"Überschuss 2017\": [geldregen_2017] }).T.rename(columns={0:'value'})\n",
    "    p.circle(x=-1000, y=1, radius=1 * scale, fill_color=None, line_color='red', line_width=5,\n",
    "            source=cdata)\n",
    "    \n",
    "    p.wedge(x=-1000, y=1, radius=radius_relative(Summe) * scale,\n",
    "            start_angle=cumsum('angle', include_zero=True), end_angle=cumsum('angle'),\n",
    "            line_color=\"white\", line_alpha=0, fill_color='color', fill_alpha=0.8, source=data)  # legend='Zweck', \n",
    "\n",
    "    p.axis.axis_label=None\n",
    "    p.axis.visible=False\n",
    "    p.grid.grid_line_color = None\n",
    "    \n",
    "    show(p)"
   ]
  },
  {
   "cell_type": "markdown",
   "metadata": {
    "slideshow": {
     "slide_type": "slide"
    }
   },
   "source": [
    "## Haushaltsüberschuss in Stuttgart 2017 und seine Verwendung"
   ]
  },
  {
   "cell_type": "code",
   "execution_count": 5,
   "metadata": {
    "slideshow": {
     "slide_type": "notes"
    }
   },
   "outputs": [],
   "source": [
    "p = figure(plot_height=400, title=\"Pie Chart\", toolbar_location=\"above\",\n",
    "           tools=\"hover\", tooltips=\"@index: @value{($ 0.00 a)}\")\n",
    "cdata = pd.DataFrame({\"Überschuss 2017\": [geldregen_2017] }).T.rename(columns={0:'value'})\n",
    "p.circle(x=0, y=1, radius=1 * scale, fill_color=None, line_color='red', line_width=5,\n",
    "        source=cdata)\n",
    "\n",
    "p.axis.axis_label=None\n",
    "p.axis.visible=False\n",
    "p.grid.grid_line_color = None"
   ]
  },
  {
   "cell_type": "code",
   "execution_count": 6,
   "metadata": {
    "slideshow": {
     "slide_type": "-"
    }
   },
   "outputs": [
    {
     "data": {
      "text/html": [
       "\n",
       "\n",
       "\n",
       "\n",
       "\n",
       "\n",
       "  <div class=\"bk-root\" id=\"eabcb390-c693-423b-b55b-17a90ebcbcda\"></div>\n"
      ]
     },
     "metadata": {},
     "output_type": "display_data"
    },
    {
     "data": {
      "application/javascript": [
       "(function(root) {\n",
       "  function embed_document(root) {\n",
       "    \n",
       "  var docs_json = {\"860baf21-dd40-40d2-9647-ce8b4d4ddbea\":{\"roots\":{\"references\":[{\"attributes\":{},\"id\":\"ee2def92-4332-41ae-b652-c6a341cd2e2d\",\"type\":\"BasicTicker\"},{\"attributes\":{},\"id\":\"364708ad-90d0-4047-8ab8-d970f351419e\",\"type\":\"BasicTickFormatter\"},{\"attributes\":{\"callback\":null,\"renderers\":\"auto\",\"tooltips\":\"@index: @value{($ 0.00 a)}\"},\"id\":\"ea6ac877-b81e-4e46-b3cc-f11e394cde23\",\"type\":\"HoverTool\"},{\"attributes\":{\"dimension\":1,\"grid_line_color\":{\"value\":null},\"plot\":{\"id\":\"6b558db5-48c3-4e37-95ce-9c4e51b9adcb\",\"subtype\":\"Figure\",\"type\":\"Plot\"},\"ticker\":{\"id\":\"ee2def92-4332-41ae-b652-c6a341cd2e2d\",\"type\":\"BasicTicker\"}},\"id\":\"8c0ed7f1-c60a-47df-8ea8-d5158c089661\",\"type\":\"Grid\"},{\"attributes\":{},\"id\":\"44dbe6de-edbc-46eb-942a-4244a1e19f1b\",\"type\":\"Selection\"},{\"attributes\":{\"axis_label\":null,\"formatter\":{\"id\":\"364708ad-90d0-4047-8ab8-d970f351419e\",\"type\":\"BasicTickFormatter\"},\"plot\":{\"id\":\"6b558db5-48c3-4e37-95ce-9c4e51b9adcb\",\"subtype\":\"Figure\",\"type\":\"Plot\"},\"ticker\":{\"id\":\"21e5733e-ded0-40e7-bfdd-f72a716d9b05\",\"type\":\"BasicTicker\"},\"visible\":false},\"id\":\"73cea3c2-e2cc-4a76-82db-144f552a73c7\",\"type\":\"LinearAxis\"},{\"attributes\":{},\"id\":\"5dc16286-0b04-4817-8417-1f840833100f\",\"type\":\"BasicTickFormatter\"},{\"attributes\":{},\"id\":\"9f0d26c8-f94c-4fec-88ba-1b022592d8e5\",\"type\":\"UnionRenderers\"},{\"attributes\":{\"data_source\":{\"id\":\"844362e1-079e-4516-8b8c-b1001a568bd1\",\"type\":\"ColumnDataSource\"},\"glyph\":{\"id\":\"894c0010-c4db-4042-b86e-f1148ec0232d\",\"type\":\"Circle\"},\"hover_glyph\":null,\"muted_glyph\":null,\"nonselection_glyph\":{\"id\":\"7ceddff7-d337-4640-ac97-74cc85f8952f\",\"type\":\"Circle\"},\"selection_glyph\":null,\"view\":{\"id\":\"4c1c2dc2-e55d-44c9-a7a9-41a21e6279a4\",\"type\":\"CDSView\"}},\"id\":\"443e17f6-9ff9-4ace-a87c-d2927588ac51\",\"type\":\"GlyphRenderer\"},{\"attributes\":{\"below\":[{\"id\":\"73cea3c2-e2cc-4a76-82db-144f552a73c7\",\"type\":\"LinearAxis\"}],\"left\":[{\"id\":\"149e187b-8700-4e34-8e1e-bff4a7597ef2\",\"type\":\"LinearAxis\"}],\"plot_height\":400,\"renderers\":[{\"id\":\"73cea3c2-e2cc-4a76-82db-144f552a73c7\",\"type\":\"LinearAxis\"},{\"id\":\"6e9042b4-3415-4df7-bfdb-e8f7c4a2459a\",\"type\":\"Grid\"},{\"id\":\"149e187b-8700-4e34-8e1e-bff4a7597ef2\",\"type\":\"LinearAxis\"},{\"id\":\"8c0ed7f1-c60a-47df-8ea8-d5158c089661\",\"type\":\"Grid\"},{\"id\":\"443e17f6-9ff9-4ace-a87c-d2927588ac51\",\"type\":\"GlyphRenderer\"}],\"title\":{\"id\":\"64a2c55c-4a44-4825-bc01-359acd3d1020\",\"type\":\"Title\"},\"toolbar\":{\"id\":\"e4fc61a3-9a3b-4b22-8d0a-6bfa04f3fdd6\",\"type\":\"Toolbar\"},\"toolbar_location\":\"above\",\"x_range\":{\"id\":\"156bf28c-241e-4bf5-8044-98f847686412\",\"type\":\"DataRange1d\"},\"x_scale\":{\"id\":\"7370afde-5e9c-4583-9a05-a798addd1f7c\",\"type\":\"LinearScale\"},\"y_range\":{\"id\":\"f61609be-9df5-4706-a541-78eef536b7bd\",\"type\":\"DataRange1d\"},\"y_scale\":{\"id\":\"8ff4fc9b-7692-4340-933e-cd35d1af36f5\",\"type\":\"LinearScale\"}},\"id\":\"6b558db5-48c3-4e37-95ce-9c4e51b9adcb\",\"subtype\":\"Figure\",\"type\":\"Plot\"},{\"attributes\":{\"fill_color\":{\"value\":null},\"line_color\":{\"value\":\"red\"},\"line_width\":{\"value\":5},\"radius\":{\"units\":\"data\",\"value\":0.6},\"x\":{\"value\":0},\"y\":{\"value\":1}},\"id\":\"894c0010-c4db-4042-b86e-f1148ec0232d\",\"type\":\"Circle\"},{\"attributes\":{\"active_drag\":\"auto\",\"active_inspect\":\"auto\",\"active_multi\":null,\"active_scroll\":\"auto\",\"active_tap\":\"auto\",\"tools\":[{\"id\":\"ea6ac877-b81e-4e46-b3cc-f11e394cde23\",\"type\":\"HoverTool\"}]},\"id\":\"e4fc61a3-9a3b-4b22-8d0a-6bfa04f3fdd6\",\"type\":\"Toolbar\"},{\"attributes\":{\"grid_line_color\":{\"value\":null},\"plot\":{\"id\":\"6b558db5-48c3-4e37-95ce-9c4e51b9adcb\",\"subtype\":\"Figure\",\"type\":\"Plot\"},\"ticker\":{\"id\":\"21e5733e-ded0-40e7-bfdd-f72a716d9b05\",\"type\":\"BasicTicker\"}},\"id\":\"6e9042b4-3415-4df7-bfdb-e8f7c4a2459a\",\"type\":\"Grid\"},{\"attributes\":{\"fill_alpha\":{\"value\":0.1},\"fill_color\":{\"value\":\"#1f77b4\"},\"line_alpha\":{\"value\":0.1},\"line_color\":{\"value\":\"#1f77b4\"},\"line_width\":{\"value\":5},\"radius\":{\"units\":\"data\",\"value\":0.6},\"x\":{\"value\":0},\"y\":{\"value\":1}},\"id\":\"7ceddff7-d337-4640-ac97-74cc85f8952f\",\"type\":\"Circle\"},{\"attributes\":{\"callback\":null},\"id\":\"f61609be-9df5-4706-a541-78eef536b7bd\",\"type\":\"DataRange1d\"},{\"attributes\":{\"source\":{\"id\":\"844362e1-079e-4516-8b8c-b1001a568bd1\",\"type\":\"ColumnDataSource\"}},\"id\":\"4c1c2dc2-e55d-44c9-a7a9-41a21e6279a4\",\"type\":\"CDSView\"},{\"attributes\":{},\"id\":\"8ff4fc9b-7692-4340-933e-cd35d1af36f5\",\"type\":\"LinearScale\"},{\"attributes\":{\"callback\":null,\"data\":{\"index\":[\"\\u00dcberschuss 2017\"],\"value\":{\"__ndarray__\":\"AAAA4InPtkE=\",\"dtype\":\"float64\",\"shape\":[1]}},\"selected\":{\"id\":\"44dbe6de-edbc-46eb-942a-4244a1e19f1b\",\"type\":\"Selection\"},\"selection_policy\":{\"id\":\"9f0d26c8-f94c-4fec-88ba-1b022592d8e5\",\"type\":\"UnionRenderers\"}},\"id\":\"844362e1-079e-4516-8b8c-b1001a568bd1\",\"type\":\"ColumnDataSource\"},{\"attributes\":{},\"id\":\"7370afde-5e9c-4583-9a05-a798addd1f7c\",\"type\":\"LinearScale\"},{\"attributes\":{\"axis_label\":null,\"formatter\":{\"id\":\"5dc16286-0b04-4817-8417-1f840833100f\",\"type\":\"BasicTickFormatter\"},\"plot\":{\"id\":\"6b558db5-48c3-4e37-95ce-9c4e51b9adcb\",\"subtype\":\"Figure\",\"type\":\"Plot\"},\"ticker\":{\"id\":\"ee2def92-4332-41ae-b652-c6a341cd2e2d\",\"type\":\"BasicTicker\"},\"visible\":false},\"id\":\"149e187b-8700-4e34-8e1e-bff4a7597ef2\",\"type\":\"LinearAxis\"},{\"attributes\":{\"plot\":null,\"text\":\"Pie Chart\"},\"id\":\"64a2c55c-4a44-4825-bc01-359acd3d1020\",\"type\":\"Title\"},{\"attributes\":{\"callback\":null},\"id\":\"156bf28c-241e-4bf5-8044-98f847686412\",\"type\":\"DataRange1d\"},{\"attributes\":{},\"id\":\"21e5733e-ded0-40e7-bfdd-f72a716d9b05\",\"type\":\"BasicTicker\"}],\"root_ids\":[\"6b558db5-48c3-4e37-95ce-9c4e51b9adcb\"]},\"title\":\"Bokeh Application\",\"version\":\"0.13.0\"}};\n",
       "  var render_items = [{\"docid\":\"860baf21-dd40-40d2-9647-ce8b4d4ddbea\",\"roots\":{\"6b558db5-48c3-4e37-95ce-9c4e51b9adcb\":\"eabcb390-c693-423b-b55b-17a90ebcbcda\"}}];\n",
       "  root.Bokeh.embed.embed_items_notebook(docs_json, render_items);\n",
       "\n",
       "  }\n",
       "  if (root.Bokeh !== undefined) {\n",
       "    embed_document(root);\n",
       "  } else {\n",
       "    var attempts = 0;\n",
       "    var timer = setInterval(function(root) {\n",
       "      if (root.Bokeh !== undefined) {\n",
       "        embed_document(root);\n",
       "        clearInterval(timer);\n",
       "      }\n",
       "      attempts++;\n",
       "      if (attempts > 100) {\n",
       "        console.log(\"Bokeh: ERROR: Unable to run BokehJS code because BokehJS library is missing\")\n",
       "        clearInterval(timer);\n",
       "      }\n",
       "    }, 10, root)\n",
       "  }\n",
       "})(window);"
      ],
      "application/vnd.bokehjs_exec.v0+json": ""
     },
     "metadata": {
      "application/vnd.bokehjs_exec.v0+json": {
       "id": "6b558db5-48c3-4e37-95ce-9c4e51b9adcb"
      }
     },
     "output_type": "display_data"
    }
   ],
   "source": [
    "show(p)"
   ]
  },
  {
   "cell_type": "markdown",
   "metadata": {
    "slideshow": {
     "slide_type": "-"
    }
   },
   "source": [
    "Unverhoffterweise war die Stadt Stuttgart nicht mit 19 Mio. Schulden, sondern mehr als 380 Mio. Überschuss aus 2017 gegangen. "
   ]
  },
  {
   "cell_type": "markdown",
   "metadata": {
    "slideshow": {
     "slide_type": "-"
    }
   },
   "source": [
    "Angesichts eines bisherigen Haushaltsplanes für 2018 im Umfang von 3.215.894.328 € war das gar nicht so wenig:"
   ]
  },
  {
   "cell_type": "code",
   "execution_count": 7,
   "metadata": {
    "slideshow": {
     "slide_type": "notes"
    }
   },
   "outputs": [],
   "source": [
    "small_scale = 0.4\n",
    "p = figure(plot_height=400, x_range=(-1.5, 2.5), title=\"Pie Chart\", toolbar_location=\"above\",\n",
    "           tools=\"hover\", tooltips=\"@index: @value{($ 0.00 a)}\")\n",
    "\n",
    "cdata = pd.DataFrame({\"Überschuss 2017\": [geldregen_2017] }).T.rename(columns={0:'value'})\n",
    "p.circle(x=1.7, y=0, radius=1 * small_scale, fill_color=None, line_color='red', line_width=5,\n",
    "        source=cdata)\n",
    "\n",
    "R = radius_relative(umfang_haushalt_2018)\n",
    "cdata = pd.DataFrame({\"Umfang Haushaltsplan 2018\": [umfang_haushalt_2018] }).T.rename(columns={0:'value'})\n",
    "p.circle(x=0, y=0, radius=R * small_scale, fill_color='red', source=cdata)\n",
    "\n",
    "p.axis.axis_label=None\n",
    "p.axis.visible=False\n",
    "p.grid.grid_line_color = None"
   ]
  },
  {
   "cell_type": "code",
   "execution_count": 8,
   "metadata": {
    "slideshow": {
     "slide_type": "-"
    }
   },
   "outputs": [
    {
     "data": {
      "text/html": [
       "\n",
       "\n",
       "\n",
       "\n",
       "\n",
       "\n",
       "  <div class=\"bk-root\" id=\"0c440689-4b8f-4abd-81cb-5b3b96e12d0b\"></div>\n"
      ]
     },
     "metadata": {},
     "output_type": "display_data"
    },
    {
     "data": {
      "application/javascript": [
       "(function(root) {\n",
       "  function embed_document(root) {\n",
       "    \n",
       "  var docs_json = {\"05233744-cc06-492d-be19-51f1f6d6f984\":{\"roots\":{\"references\":[{\"attributes\":{\"fill_alpha\":{\"value\":0.1},\"fill_color\":{\"value\":\"#1f77b4\"},\"line_alpha\":{\"value\":0.1},\"line_color\":{\"value\":\"#1f77b4\"},\"radius\":{\"units\":\"data\",\"value\":1.1595290805917353},\"x\":{\"value\":0},\"y\":{\"value\":0}},\"id\":\"c29690c8-000f-47f5-a670-56fc9f8a7e74\",\"type\":\"Circle\"},{\"attributes\":{\"grid_line_color\":{\"value\":null},\"plot\":{\"id\":\"b99122dc-1996-44a7-8c07-91ac40b518b7\",\"subtype\":\"Figure\",\"type\":\"Plot\"},\"ticker\":{\"id\":\"1f501a9c-d8f9-409a-9b57-d13f1ccd4df3\",\"type\":\"BasicTicker\"}},\"id\":\"c8fe4f01-0ea9-46dc-b894-cda2e0b57ba3\",\"type\":\"Grid\"},{\"attributes\":{\"data_source\":{\"id\":\"91f4095f-e573-4c83-9453-a0f330a3564f\",\"type\":\"ColumnDataSource\"},\"glyph\":{\"id\":\"5a708388-bee8-4933-9491-db4f6e1ce729\",\"type\":\"Circle\"},\"hover_glyph\":null,\"muted_glyph\":null,\"nonselection_glyph\":{\"id\":\"732f1224-6719-4fbd-8c64-0134caa93c1c\",\"type\":\"Circle\"},\"selection_glyph\":null,\"view\":{\"id\":\"79c4b676-54fc-4a5a-a730-059504fc7a00\",\"type\":\"CDSView\"}},\"id\":\"f3c327e8-eee8-404f-80ab-479397041733\",\"type\":\"GlyphRenderer\"},{\"attributes\":{\"below\":[{\"id\":\"ca2ff12a-7ada-4614-a7de-9068bb67eade\",\"type\":\"LinearAxis\"}],\"left\":[{\"id\":\"fdf33392-392c-4b0c-8f87-4f893cfb9466\",\"type\":\"LinearAxis\"}],\"plot_height\":400,\"renderers\":[{\"id\":\"ca2ff12a-7ada-4614-a7de-9068bb67eade\",\"type\":\"LinearAxis\"},{\"id\":\"c8fe4f01-0ea9-46dc-b894-cda2e0b57ba3\",\"type\":\"Grid\"},{\"id\":\"fdf33392-392c-4b0c-8f87-4f893cfb9466\",\"type\":\"LinearAxis\"},{\"id\":\"31d058a0-a349-431a-a0c4-f6bb0fff8bf5\",\"type\":\"Grid\"},{\"id\":\"f3c327e8-eee8-404f-80ab-479397041733\",\"type\":\"GlyphRenderer\"},{\"id\":\"26fecd35-5a40-4f8b-b80e-4cdcac5fff73\",\"type\":\"GlyphRenderer\"}],\"title\":{\"id\":\"c52ff022-69ae-4789-83fd-77739ada64d5\",\"type\":\"Title\"},\"toolbar\":{\"id\":\"b76bf7a8-b9a0-467e-a0f9-25232a28d65c\",\"type\":\"Toolbar\"},\"toolbar_location\":\"above\",\"x_range\":{\"id\":\"37959c2b-5c1f-448c-9357-89221681e3c3\",\"type\":\"Range1d\"},\"x_scale\":{\"id\":\"bbb89476-ce18-427a-92b3-dde308aba44b\",\"type\":\"LinearScale\"},\"y_range\":{\"id\":\"85995fc0-cf9f-440c-945c-23eee6a6bfe1\",\"type\":\"DataRange1d\"},\"y_scale\":{\"id\":\"6d1320d5-73ca-4991-9f5a-63667d3b22af\",\"type\":\"LinearScale\"}},\"id\":\"b99122dc-1996-44a7-8c07-91ac40b518b7\",\"subtype\":\"Figure\",\"type\":\"Plot\"},{\"attributes\":{\"source\":{\"id\":\"91f4095f-e573-4c83-9453-a0f330a3564f\",\"type\":\"ColumnDataSource\"}},\"id\":\"79c4b676-54fc-4a5a-a730-059504fc7a00\",\"type\":\"CDSView\"},{\"attributes\":{\"plot\":null,\"text\":\"Pie Chart\"},\"id\":\"c52ff022-69ae-4789-83fd-77739ada64d5\",\"type\":\"Title\"},{\"attributes\":{},\"id\":\"1f501a9c-d8f9-409a-9b57-d13f1ccd4df3\",\"type\":\"BasicTicker\"},{\"attributes\":{\"callback\":null,\"end\":2.5,\"start\":-1.5},\"id\":\"37959c2b-5c1f-448c-9357-89221681e3c3\",\"type\":\"Range1d\"},{\"attributes\":{\"active_drag\":\"auto\",\"active_inspect\":\"auto\",\"active_multi\":null,\"active_scroll\":\"auto\",\"active_tap\":\"auto\",\"tools\":[{\"id\":\"07169712-76fc-4775-a4f8-1e99e6477de6\",\"type\":\"HoverTool\"}]},\"id\":\"b76bf7a8-b9a0-467e-a0f9-25232a28d65c\",\"type\":\"Toolbar\"},{\"attributes\":{\"fill_color\":{\"value\":\"red\"},\"line_color\":{\"value\":\"#1f77b4\"},\"radius\":{\"units\":\"data\",\"value\":1.1595290805917353},\"x\":{\"value\":0},\"y\":{\"value\":0}},\"id\":\"485aa67c-1159-4e61-a3a4-a7ad0c52f349\",\"type\":\"Circle\"},{\"attributes\":{\"axis_label\":null,\"formatter\":{\"id\":\"2b82d315-0eb7-4207-83b8-bad3bfb25d92\",\"type\":\"BasicTickFormatter\"},\"plot\":{\"id\":\"b99122dc-1996-44a7-8c07-91ac40b518b7\",\"subtype\":\"Figure\",\"type\":\"Plot\"},\"ticker\":{\"id\":\"aacdd55c-e1dd-4b88-94a2-a60765b7e3ad\",\"type\":\"BasicTicker\"},\"visible\":false},\"id\":\"fdf33392-392c-4b0c-8f87-4f893cfb9466\",\"type\":\"LinearAxis\"},{\"attributes\":{},\"id\":\"2b82d315-0eb7-4207-83b8-bad3bfb25d92\",\"type\":\"BasicTickFormatter\"},{\"attributes\":{},\"id\":\"bbb89476-ce18-427a-92b3-dde308aba44b\",\"type\":\"LinearScale\"},{\"attributes\":{\"data_source\":{\"id\":\"5833f7c0-eddf-49ca-8926-557c24accafa\",\"type\":\"ColumnDataSource\"},\"glyph\":{\"id\":\"485aa67c-1159-4e61-a3a4-a7ad0c52f349\",\"type\":\"Circle\"},\"hover_glyph\":null,\"muted_glyph\":null,\"nonselection_glyph\":{\"id\":\"c29690c8-000f-47f5-a670-56fc9f8a7e74\",\"type\":\"Circle\"},\"selection_glyph\":null,\"view\":{\"id\":\"f9a9f046-4350-476e-ad2c-e07b6cce8c4a\",\"type\":\"CDSView\"}},\"id\":\"26fecd35-5a40-4f8b-b80e-4cdcac5fff73\",\"type\":\"GlyphRenderer\"},{\"attributes\":{\"callback\":null},\"id\":\"85995fc0-cf9f-440c-945c-23eee6a6bfe1\",\"type\":\"DataRange1d\"},{\"attributes\":{},\"id\":\"bcbf93f1-96f2-48bb-979f-c71da88a9334\",\"type\":\"BasicTickFormatter\"},{\"attributes\":{},\"id\":\"b8b46039-ae9a-41c7-a64b-970cdd975077\",\"type\":\"UnionRenderers\"},{\"attributes\":{\"callback\":null,\"data\":{\"index\":[\"Umfang Haushaltsplan 2018\"],\"value\":{\"__ndarray__\":\"AAAA59T150E=\",\"dtype\":\"float64\",\"shape\":[1]}},\"selected\":{\"id\":\"a4b983d8-e8ab-4a78-bb73-0be3818a1ad2\",\"type\":\"Selection\"},\"selection_policy\":{\"id\":\"b8b46039-ae9a-41c7-a64b-970cdd975077\",\"type\":\"UnionRenderers\"}},\"id\":\"5833f7c0-eddf-49ca-8926-557c24accafa\",\"type\":\"ColumnDataSource\"},{\"attributes\":{},\"id\":\"6d1320d5-73ca-4991-9f5a-63667d3b22af\",\"type\":\"LinearScale\"},{\"attributes\":{\"source\":{\"id\":\"5833f7c0-eddf-49ca-8926-557c24accafa\",\"type\":\"ColumnDataSource\"}},\"id\":\"f9a9f046-4350-476e-ad2c-e07b6cce8c4a\",\"type\":\"CDSView\"},{\"attributes\":{},\"id\":\"a4b983d8-e8ab-4a78-bb73-0be3818a1ad2\",\"type\":\"Selection\"},{\"attributes\":{\"dimension\":1,\"grid_line_color\":{\"value\":null},\"plot\":{\"id\":\"b99122dc-1996-44a7-8c07-91ac40b518b7\",\"subtype\":\"Figure\",\"type\":\"Plot\"},\"ticker\":{\"id\":\"aacdd55c-e1dd-4b88-94a2-a60765b7e3ad\",\"type\":\"BasicTicker\"}},\"id\":\"31d058a0-a349-431a-a0c4-f6bb0fff8bf5\",\"type\":\"Grid\"},{\"attributes\":{\"callback\":null,\"renderers\":\"auto\",\"tooltips\":\"@index: @value{($ 0.00 a)}\"},\"id\":\"07169712-76fc-4775-a4f8-1e99e6477de6\",\"type\":\"HoverTool\"},{\"attributes\":{\"callback\":null,\"data\":{\"index\":[\"\\u00dcberschuss 2017\"],\"value\":{\"__ndarray__\":\"AAAA4InPtkE=\",\"dtype\":\"float64\",\"shape\":[1]}},\"selected\":{\"id\":\"091e59b2-c22b-4a15-9603-81fe07f8904a\",\"type\":\"Selection\"},\"selection_policy\":{\"id\":\"267cd478-6499-494a-bf19-280e0fa86322\",\"type\":\"UnionRenderers\"}},\"id\":\"91f4095f-e573-4c83-9453-a0f330a3564f\",\"type\":\"ColumnDataSource\"},{\"attributes\":{},\"id\":\"267cd478-6499-494a-bf19-280e0fa86322\",\"type\":\"UnionRenderers\"},{\"attributes\":{},\"id\":\"aacdd55c-e1dd-4b88-94a2-a60765b7e3ad\",\"type\":\"BasicTicker\"},{\"attributes\":{\"axis_label\":null,\"formatter\":{\"id\":\"bcbf93f1-96f2-48bb-979f-c71da88a9334\",\"type\":\"BasicTickFormatter\"},\"plot\":{\"id\":\"b99122dc-1996-44a7-8c07-91ac40b518b7\",\"subtype\":\"Figure\",\"type\":\"Plot\"},\"ticker\":{\"id\":\"1f501a9c-d8f9-409a-9b57-d13f1ccd4df3\",\"type\":\"BasicTicker\"},\"visible\":false},\"id\":\"ca2ff12a-7ada-4614-a7de-9068bb67eade\",\"type\":\"LinearAxis\"},{\"attributes\":{\"fill_alpha\":{\"value\":0.1},\"fill_color\":{\"value\":\"#1f77b4\"},\"line_alpha\":{\"value\":0.1},\"line_color\":{\"value\":\"#1f77b4\"},\"line_width\":{\"value\":5},\"radius\":{\"units\":\"data\",\"value\":0.4},\"x\":{\"value\":1.7},\"y\":{\"value\":0}},\"id\":\"732f1224-6719-4fbd-8c64-0134caa93c1c\",\"type\":\"Circle\"},{\"attributes\":{},\"id\":\"091e59b2-c22b-4a15-9603-81fe07f8904a\",\"type\":\"Selection\"},{\"attributes\":{\"fill_color\":{\"value\":null},\"line_color\":{\"value\":\"red\"},\"line_width\":{\"value\":5},\"radius\":{\"units\":\"data\",\"value\":0.4},\"x\":{\"value\":1.7},\"y\":{\"value\":0}},\"id\":\"5a708388-bee8-4933-9491-db4f6e1ce729\",\"type\":\"Circle\"}],\"root_ids\":[\"b99122dc-1996-44a7-8c07-91ac40b518b7\"]},\"title\":\"Bokeh Application\",\"version\":\"0.13.0\"}};\n",
       "  var render_items = [{\"docid\":\"05233744-cc06-492d-be19-51f1f6d6f984\",\"roots\":{\"b99122dc-1996-44a7-8c07-91ac40b518b7\":\"0c440689-4b8f-4abd-81cb-5b3b96e12d0b\"}}];\n",
       "  root.Bokeh.embed.embed_items_notebook(docs_json, render_items);\n",
       "\n",
       "  }\n",
       "  if (root.Bokeh !== undefined) {\n",
       "    embed_document(root);\n",
       "  } else {\n",
       "    var attempts = 0;\n",
       "    var timer = setInterval(function(root) {\n",
       "      if (root.Bokeh !== undefined) {\n",
       "        embed_document(root);\n",
       "        clearInterval(timer);\n",
       "      }\n",
       "      attempts++;\n",
       "      if (attempts > 100) {\n",
       "        console.log(\"Bokeh: ERROR: Unable to run BokehJS code because BokehJS library is missing\")\n",
       "        clearInterval(timer);\n",
       "      }\n",
       "    }, 10, root)\n",
       "  }\n",
       "})(window);"
      ],
      "application/vnd.bokehjs_exec.v0+json": ""
     },
     "metadata": {
      "application/vnd.bokehjs_exec.v0+json": {
       "id": "b99122dc-1996-44a7-8c07-91ac40b518b7"
      }
     },
     "output_type": "display_data"
    }
   ],
   "source": [
    "show(p)"
   ]
  },
  {
   "cell_type": "markdown",
   "metadata": {
    "slideshow": {
     "slide_type": "-"
    }
   },
   "source": [
    "Die Stadträte frohlockten, und brachten innerhalb weniger Wochen Vorschläge ein, was man mit dem Geldsegen anfangen sollte."
   ]
  },
  {
   "cell_type": "markdown",
   "metadata": {
    "slideshow": {
     "slide_type": "slide"
    }
   },
   "source": [
    "### Vorschlag SÖSLinksPluS"
   ]
  },
  {
   "cell_type": "code",
   "execution_count": 9,
   "metadata": {
    "slideshow": {
     "slide_type": "notes"
    }
   },
   "outputs": [],
   "source": [
    "Vorschlag_SÖSLinksPluS = {\n",
    "    'Wohnbau- und Bodenvorratsfonds':           [ 175 * million, \"Wohnen\"],\n",
    "    'VVS-365€-Jahrestickets':                   [  50 * million, \"ÖPNV\"],\n",
    "    'Stadtbahnen & Liegenschaften SSB':         [  50 * million, \"ÖPNV\"],\n",
    "    'KITA-Gebühren (sonst 2019 gestrichen)':    [26.5 * million, \"Soziales\"],\n",
    "    'Radentscheid-Umsetzung 2019':              [18.8 * million, \"Fuß- & Radverkehr\"],\n",
    "    'Programm Fußgängerfreundliches Stuttgart': [   5 * million, \"Fuß- & Radverkehr\"],\n",
    "    'Kultur':                                   [  30 * million, \"Kultur\"],\n",
    "    'Bäderbetriebe':                            [   5 * million, \"Bäder\"],\n",
    "    'Schuldenausgleich':                        [21.3 * million, \"Schuldentilgung\"],\n",
    "}"
   ]
  },
  {
   "cell_type": "code",
   "execution_count": 10,
   "metadata": {
    "slideshow": {
     "slide_type": "-"
    }
   },
   "outputs": [
    {
     "data": {
      "text/html": [
       "\n",
       "\n",
       "\n",
       "\n",
       "\n",
       "\n",
       "  <div class=\"bk-root\" id=\"a732f400-e23b-465a-81df-a4527626ac30\"></div>\n"
      ]
     },
     "metadata": {},
     "output_type": "display_data"
    },
    {
     "data": {
      "application/javascript": [
       "(function(root) {\n",
       "  function embed_document(root) {\n",
       "    \n",
       "  var docs_json = {\"49985b8f-2825-4227-83c8-fe5ce81c3454\":{\"roots\":{\"references\":[{\"attributes\":{},\"id\":\"44d3230d-0e82-439b-8619-712699222a82\",\"type\":\"UnionRenderers\"},{\"attributes\":{\"callback\":null},\"id\":\"5dd22606-e36c-48d0-a7bc-c7b199ca1a44\",\"type\":\"DataRange1d\"},{\"attributes\":{\"active_drag\":\"auto\",\"active_inspect\":\"auto\",\"active_multi\":null,\"active_scroll\":\"auto\",\"active_tap\":\"auto\",\"tools\":[{\"id\":\"fbe2c4bd-6620-4a6d-a49b-600efcc283d2\",\"type\":\"HoverTool\"}]},\"id\":\"0c4443f2-af93-4490-8e28-4a8d325d10ae\",\"type\":\"Toolbar\"},{\"attributes\":{},\"id\":\"5d931008-445c-443a-a23f-acc8b1ca27da\",\"type\":\"BasicTickFormatter\"},{\"attributes\":{\"dimension\":1,\"grid_line_color\":{\"value\":null},\"plot\":{\"id\":\"facfb284-9d83-43b1-a872-3903dfd64e39\",\"subtype\":\"Figure\",\"type\":\"Plot\"},\"ticker\":{\"id\":\"ebf2aca8-737f-4878-abca-f34209fa2b71\",\"type\":\"BasicTicker\"}},\"id\":\"d33382d1-b706-4877-9c10-88bcc05e4aa6\",\"type\":\"Grid\"},{\"attributes\":{\"data_source\":{\"id\":\"1085a2ea-6a6b-4838-aedd-34c9997d5ea7\",\"type\":\"ColumnDataSource\"},\"glyph\":{\"id\":\"e6b86fb2-0174-44d8-8dcf-eedf92fda560\",\"type\":\"Wedge\"},\"hover_glyph\":null,\"muted_glyph\":null,\"nonselection_glyph\":{\"id\":\"7bf853db-2270-4499-b862-1bc88d8b93cd\",\"type\":\"Wedge\"},\"selection_glyph\":null,\"view\":{\"id\":\"20362e6c-91c9-4af7-8245-3934d05eed06\",\"type\":\"CDSView\"}},\"id\":\"c0cdfc9c-b6c9-4ca8-88fb-deb2f5ba0fe4\",\"type\":\"GlyphRenderer\"},{\"attributes\":{},\"id\":\"f5cafb69-0c39-4617-95e5-dfdc1de830c6\",\"type\":\"BasicTicker\"},{\"attributes\":{},\"id\":\"2254bdf1-16fa-4d53-9b2c-eca5f8c6d058\",\"type\":\"UnionRenderers\"},{\"attributes\":{\"source\":{\"id\":\"6f1ef1d4-15c8-45bc-b599-dcab52849518\",\"type\":\"ColumnDataSource\"}},\"id\":\"e5c08d99-9c54-4356-bbc2-30b54a3415ae\",\"type\":\"CDSView\"},{\"attributes\":{},\"id\":\"ebf2aca8-737f-4878-abca-f34209fa2b71\",\"type\":\"BasicTicker\"},{\"attributes\":{},\"id\":\"c6db11e1-3e5d-48fc-89d8-2621ca799d64\",\"type\":\"Selection\"},{\"attributes\":{\"callback\":null,\"renderers\":\"auto\",\"tooltips\":\"@index: @value{($ 0.00 a)}\"},\"id\":\"fbe2c4bd-6620-4a6d-a49b-600efcc283d2\",\"type\":\"HoverTool\"},{\"attributes\":{},\"id\":\"d1f15a0a-9927-4550-9d67-7a0cbcb14512\",\"type\":\"LinearScale\"},{\"attributes\":{\"callback\":null,\"data\":{\"index\":[\"\\u00dcberschuss 2017\"],\"value\":{\"__ndarray__\":\"AAAA4InPtkE=\",\"dtype\":\"float64\",\"shape\":[1]}},\"selected\":{\"id\":\"a796c785-f322-4f00-a5a1-8a4d456d27ff\",\"type\":\"Selection\"},\"selection_policy\":{\"id\":\"44d3230d-0e82-439b-8619-712699222a82\",\"type\":\"UnionRenderers\"}},\"id\":\"6f1ef1d4-15c8-45bc-b599-dcab52849518\",\"type\":\"ColumnDataSource\"},{\"attributes\":{\"grid_line_color\":{\"value\":null},\"plot\":{\"id\":\"facfb284-9d83-43b1-a872-3903dfd64e39\",\"subtype\":\"Figure\",\"type\":\"Plot\"},\"ticker\":{\"id\":\"f5cafb69-0c39-4617-95e5-dfdc1de830c6\",\"type\":\"BasicTicker\"}},\"id\":\"9c7c04fc-96e9-427c-b806-dd98027f2c2b\",\"type\":\"Grid\"},{\"attributes\":{\"data_source\":{\"id\":\"6f1ef1d4-15c8-45bc-b599-dcab52849518\",\"type\":\"ColumnDataSource\"},\"glyph\":{\"id\":\"b78574c0-b4af-4de4-bce9-92856e5ebc8e\",\"type\":\"Circle\"},\"hover_glyph\":null,\"muted_glyph\":null,\"nonselection_glyph\":{\"id\":\"3f49d993-4ca8-4f97-a47d-a74fcc8ea83b\",\"type\":\"Circle\"},\"selection_glyph\":null,\"view\":{\"id\":\"e5c08d99-9c54-4356-bbc2-30b54a3415ae\",\"type\":\"CDSView\"}},\"id\":\"0dd89b8f-9fa1-4fff-bc1d-3fc2701cb9f1\",\"type\":\"GlyphRenderer\"},{\"attributes\":{},\"id\":\"eec6ec00-90f8-453f-9e93-9df1eaac0b87\",\"type\":\"BasicTickFormatter\"},{\"attributes\":{\"axis_label\":null,\"formatter\":{\"id\":\"eec6ec00-90f8-453f-9e93-9df1eaac0b87\",\"type\":\"BasicTickFormatter\"},\"plot\":{\"id\":\"facfb284-9d83-43b1-a872-3903dfd64e39\",\"subtype\":\"Figure\",\"type\":\"Plot\"},\"ticker\":{\"id\":\"f5cafb69-0c39-4617-95e5-dfdc1de830c6\",\"type\":\"BasicTicker\"},\"visible\":false},\"id\":\"5790f6b3-86a0-430c-86c3-54aee631be57\",\"type\":\"LinearAxis\"},{\"attributes\":{\"axis_label\":null,\"formatter\":{\"id\":\"5d931008-445c-443a-a23f-acc8b1ca27da\",\"type\":\"BasicTickFormatter\"},\"plot\":{\"id\":\"facfb284-9d83-43b1-a872-3903dfd64e39\",\"subtype\":\"Figure\",\"type\":\"Plot\"},\"ticker\":{\"id\":\"ebf2aca8-737f-4878-abca-f34209fa2b71\",\"type\":\"BasicTicker\"},\"visible\":false},\"id\":\"b6f60f9e-9769-4b67-9d9d-d1150adbb26e\",\"type\":\"LinearAxis\"},{\"attributes\":{\"end_angle\":{\"expr\":{\"id\":\"3a8eeaac-9f96-48fb-b5ae-f2be872562d6\",\"type\":\"CumSum\"},\"units\":\"rad\"},\"fill_alpha\":{\"value\":0.8},\"fill_color\":{\"field\":\"color\"},\"line_alpha\":{\"value\":0},\"line_color\":{\"value\":\"white\"},\"radius\":{\"units\":\"data\",\"value\":0.5991370852565462},\"start_angle\":{\"expr\":{\"id\":\"b5204283-d7c8-40b3-84c8-cd5ce84572f9\",\"type\":\"CumSum\"},\"units\":\"rad\"},\"x\":{\"value\":-1000},\"y\":{\"value\":1}},\"id\":\"e6b86fb2-0174-44d8-8dcf-eedf92fda560\",\"type\":\"Wedge\"},{\"attributes\":{\"callback\":null,\"data\":{\"angle\":[2.881439802820827,0.8232685150916649,0.8232685150916649,0.4363323129985824,0.309548961674466,0.08232685150916648,0.4939611090549989,0.08232685150916648,0.35071238742904925],\"color\":[\"#9ecae1\",\"#a1d99b\",\"#a1d99b\",\"#fdd0a2\",\"#c7e9c0\",\"#c7e9c0\",\"#fd8d3c\",\"#fdae6b\",\"#9e9ac8\"],\"index\":[\"Wohnbau- und Bodenvorratsfonds\",\"VVS-365\\u20ac-Jahrestickets\",\"Stadtbahnen & Liegenschaften SSB\",\"KITA-Geb\\u00fchren (sonst 2019 gestrichen)\",\"Radentscheid-Umsetzung 2019\",\"Programm Fu\\u00dfg\\u00e4ngerfreundliches Stuttgart\",\"Kultur\",\"B\\u00e4derbetriebe\",\"Schuldenausgleich\"],\"value\":[175000000,50000000,50000000,26500000.0,18800000.0,5000000,30000000,5000000,21300000.0]},\"selected\":{\"id\":\"c6db11e1-3e5d-48fc-89d8-2621ca799d64\",\"type\":\"Selection\"},\"selection_policy\":{\"id\":\"2254bdf1-16fa-4d53-9b2c-eca5f8c6d058\",\"type\":\"UnionRenderers\"}},\"id\":\"1085a2ea-6a6b-4838-aedd-34c9997d5ea7\",\"type\":\"ColumnDataSource\"},{\"attributes\":{},\"id\":\"a796c785-f322-4f00-a5a1-8a4d456d27ff\",\"type\":\"Selection\"},{\"attributes\":{\"field\":\"angle\"},\"id\":\"3a8eeaac-9f96-48fb-b5ae-f2be872562d6\",\"type\":\"CumSum\"},{\"attributes\":{\"fill_alpha\":{\"value\":0.1},\"fill_color\":{\"value\":\"#1f77b4\"},\"line_alpha\":{\"value\":0.1},\"line_color\":{\"value\":\"#1f77b4\"},\"line_width\":{\"value\":5},\"radius\":{\"units\":\"data\",\"value\":0.6},\"x\":{\"value\":-1000},\"y\":{\"value\":1}},\"id\":\"3f49d993-4ca8-4f97-a47d-a74fcc8ea83b\",\"type\":\"Circle\"},{\"attributes\":{\"end_angle\":{\"expr\":{\"id\":\"3a8eeaac-9f96-48fb-b5ae-f2be872562d6\",\"type\":\"CumSum\"},\"units\":\"rad\"},\"fill_alpha\":{\"value\":0.1},\"fill_color\":{\"value\":\"#1f77b4\"},\"line_alpha\":{\"value\":0.1},\"line_color\":{\"value\":\"#1f77b4\"},\"radius\":{\"units\":\"data\",\"value\":0.5991370852565462},\"start_angle\":{\"expr\":{\"id\":\"b5204283-d7c8-40b3-84c8-cd5ce84572f9\",\"type\":\"CumSum\"},\"units\":\"rad\"},\"x\":{\"value\":-1000},\"y\":{\"value\":1}},\"id\":\"7bf853db-2270-4499-b862-1bc88d8b93cd\",\"type\":\"Wedge\"},{\"attributes\":{\"field\":\"angle\",\"include_zero\":true},\"id\":\"b5204283-d7c8-40b3-84c8-cd5ce84572f9\",\"type\":\"CumSum\"},{\"attributes\":{\"below\":[{\"id\":\"5790f6b3-86a0-430c-86c3-54aee631be57\",\"type\":\"LinearAxis\"}],\"left\":[{\"id\":\"b6f60f9e-9769-4b67-9d9d-d1150adbb26e\",\"type\":\"LinearAxis\"}],\"plot_height\":500,\"renderers\":[{\"id\":\"5790f6b3-86a0-430c-86c3-54aee631be57\",\"type\":\"LinearAxis\"},{\"id\":\"9c7c04fc-96e9-427c-b806-dd98027f2c2b\",\"type\":\"Grid\"},{\"id\":\"b6f60f9e-9769-4b67-9d9d-d1150adbb26e\",\"type\":\"LinearAxis\"},{\"id\":\"d33382d1-b706-4877-9c10-88bcc05e4aa6\",\"type\":\"Grid\"},{\"id\":\"0dd89b8f-9fa1-4fff-bc1d-3fc2701cb9f1\",\"type\":\"GlyphRenderer\"},{\"id\":\"c0cdfc9c-b6c9-4ca8-88fb-deb2f5ba0fe4\",\"type\":\"GlyphRenderer\"}],\"title\":{\"id\":\"49663e74-1f13-4187-bd52-343ce83dd0b8\",\"type\":\"Title\"},\"toolbar\":{\"id\":\"0c4443f2-af93-4490-8e28-4a8d325d10ae\",\"type\":\"Toolbar\"},\"toolbar_location\":\"above\",\"x_range\":{\"id\":\"5dd22606-e36c-48d0-a7bc-c7b199ca1a44\",\"type\":\"DataRange1d\"},\"x_scale\":{\"id\":\"9189bb26-a0fa-4e92-aa1c-6bdf966b7e21\",\"type\":\"LinearScale\"},\"y_range\":{\"id\":\"87b292ec-2d38-42b1-9806-d4e53deab23b\",\"type\":\"DataRange1d\"},\"y_scale\":{\"id\":\"d1f15a0a-9927-4550-9d67-7a0cbcb14512\",\"type\":\"LinearScale\"}},\"id\":\"facfb284-9d83-43b1-a872-3903dfd64e39\",\"subtype\":\"Figure\",\"type\":\"Plot\"},{\"attributes\":{\"plot\":null,\"text\":\"Pie Chart\"},\"id\":\"49663e74-1f13-4187-bd52-343ce83dd0b8\",\"type\":\"Title\"},{\"attributes\":{\"callback\":null},\"id\":\"87b292ec-2d38-42b1-9806-d4e53deab23b\",\"type\":\"DataRange1d\"},{\"attributes\":{\"fill_color\":{\"value\":null},\"line_color\":{\"value\":\"red\"},\"line_width\":{\"value\":5},\"radius\":{\"units\":\"data\",\"value\":0.6},\"x\":{\"value\":-1000},\"y\":{\"value\":1}},\"id\":\"b78574c0-b4af-4de4-bce9-92856e5ebc8e\",\"type\":\"Circle\"},{\"attributes\":{\"source\":{\"id\":\"1085a2ea-6a6b-4838-aedd-34c9997d5ea7\",\"type\":\"ColumnDataSource\"}},\"id\":\"20362e6c-91c9-4af7-8245-3934d05eed06\",\"type\":\"CDSView\"},{\"attributes\":{},\"id\":\"9189bb26-a0fa-4e92-aa1c-6bdf966b7e21\",\"type\":\"LinearScale\"}],\"root_ids\":[\"facfb284-9d83-43b1-a872-3903dfd64e39\"]},\"title\":\"Bokeh Application\",\"version\":\"0.13.0\"}};\n",
       "  var render_items = [{\"docid\":\"49985b8f-2825-4227-83c8-fe5ce81c3454\",\"roots\":{\"facfb284-9d83-43b1-a872-3903dfd64e39\":\"a732f400-e23b-465a-81df-a4527626ac30\"}}];\n",
       "  root.Bokeh.embed.embed_items_notebook(docs_json, render_items);\n",
       "\n",
       "  }\n",
       "  if (root.Bokeh !== undefined) {\n",
       "    embed_document(root);\n",
       "  } else {\n",
       "    var attempts = 0;\n",
       "    var timer = setInterval(function(root) {\n",
       "      if (root.Bokeh !== undefined) {\n",
       "        embed_document(root);\n",
       "        clearInterval(timer);\n",
       "      }\n",
       "      attempts++;\n",
       "      if (attempts > 100) {\n",
       "        console.log(\"Bokeh: ERROR: Unable to run BokehJS code because BokehJS library is missing\")\n",
       "        clearInterval(timer);\n",
       "      }\n",
       "    }, 10, root)\n",
       "  }\n",
       "})(window);"
      ],
      "application/vnd.bokehjs_exec.v0+json": ""
     },
     "metadata": {
      "application/vnd.bokehjs_exec.v0+json": {
       "id": "facfb284-9d83-43b1-a872-3903dfd64e39"
      }
     },
     "output_type": "display_data"
    }
   ],
   "source": [
    "kuchen(Vorschlag_SÖSLinksPluS)"
   ]
  },
  {
   "cell_type": "markdown",
   "metadata": {
    "slideshow": {
     "slide_type": "slide"
    }
   },
   "source": [
    "### Vorschlag CSU, SPD, Freie Wähler, FDP"
   ]
  },
  {
   "cell_type": "code",
   "execution_count": 11,
   "metadata": {
    "slideshow": {
     "slide_type": "notes"
    }
   },
   "outputs": [],
   "source": [
    "Vorschlag_CSU = {\n",
    "    'Wohnraumoffensive Stuttgart':           [150 * million, \"Wohnen\"],\n",
    "    'Aufstockung Friedrichswahl':            [ 25 * million, \"Straßenbau\"],\n",
    "    'Kulturelle Infrastruktur':              [  0 * million, \"Kultur\"], # ?? versteh den Satz nicht\n",
    "    \n",
    "    # 'Sanierung und Erweiterungsbauten Oper': [167 * million, \"Kultur\"],  # die aus der Zukunft\n",
    "}"
   ]
  },
  {
   "cell_type": "code",
   "execution_count": 12,
   "metadata": {
    "slideshow": {
     "slide_type": "-"
    }
   },
   "outputs": [
    {
     "data": {
      "text/html": [
       "\n",
       "\n",
       "\n",
       "\n",
       "\n",
       "\n",
       "  <div class=\"bk-root\" id=\"2a883f43-f9ce-4381-943a-ac1263cc599a\"></div>\n"
      ]
     },
     "metadata": {},
     "output_type": "display_data"
    },
    {
     "data": {
      "application/javascript": [
       "(function(root) {\n",
       "  function embed_document(root) {\n",
       "    \n",
       "  var docs_json = {\"42811a06-3a69-494e-b3cd-5470cd2bb93f\":{\"roots\":{\"references\":[{\"attributes\":{\"end_angle\":{\"expr\":{\"id\":\"8cd80d4e-5187-4b5b-9f07-6a0411e29317\",\"type\":\"CumSum\"},\"units\":\"rad\"},\"fill_alpha\":{\"value\":0.8},\"fill_color\":{\"field\":\"color\"},\"line_alpha\":{\"value\":0},\"line_color\":{\"value\":\"white\"},\"radius\":{\"units\":\"data\",\"value\":0.40573366465829835},\"start_angle\":{\"expr\":{\"id\":\"645e6e1e-da59-4e75-bef9-d0f01e65808f\",\"type\":\"CumSum\"},\"units\":\"rad\"},\"x\":{\"value\":-1000},\"y\":{\"value\":1}},\"id\":\"55359472-27b4-427f-a929-531bcee385da\",\"type\":\"Wedge\"},{\"attributes\":{},\"id\":\"2d86912b-a060-49f9-94e8-afa598a8b622\",\"type\":\"Selection\"},{\"attributes\":{},\"id\":\"51926eb5-94ba-496f-94aa-014d75551f27\",\"type\":\"UnionRenderers\"},{\"attributes\":{\"axis_label\":null,\"formatter\":{\"id\":\"71d3028f-0780-4682-a355-824b57c3b1c5\",\"type\":\"BasicTickFormatter\"},\"plot\":{\"id\":\"7309a5a7-c284-44f3-a025-0a1a8d5afdcf\",\"subtype\":\"Figure\",\"type\":\"Plot\"},\"ticker\":{\"id\":\"c1cd086c-748d-4853-b235-349e2a7dd94a\",\"type\":\"BasicTicker\"},\"visible\":false},\"id\":\"f4fce395-b4d7-4112-bba6-ec58a3eccd6b\",\"type\":\"LinearAxis\"},{\"attributes\":{},\"id\":\"0959dcad-de2d-4a07-b9c4-202ea038fa2f\",\"type\":\"Selection\"},{\"attributes\":{\"field\":\"angle\",\"include_zero\":true},\"id\":\"645e6e1e-da59-4e75-bef9-d0f01e65808f\",\"type\":\"CumSum\"},{\"attributes\":{},\"id\":\"badc6b2f-b073-49a7-bf30-904e4cb23210\",\"type\":\"UnionRenderers\"},{\"attributes\":{\"dimension\":1,\"grid_line_color\":{\"value\":null},\"plot\":{\"id\":\"7309a5a7-c284-44f3-a025-0a1a8d5afdcf\",\"subtype\":\"Figure\",\"type\":\"Plot\"},\"ticker\":{\"id\":\"69233f74-68e8-48cc-942b-d349a28a6907\",\"type\":\"BasicTicker\"}},\"id\":\"4c8e3c6f-3d44-4bad-9443-941047dc126f\",\"type\":\"Grid\"},{\"attributes\":{\"callback\":null},\"id\":\"1adf3a64-628a-4cbe-a6af-8997828b6988\",\"type\":\"DataRange1d\"},{\"attributes\":{\"callback\":null,\"renderers\":\"auto\",\"tooltips\":\"@index: @value{($ 0.00 a)}\"},\"id\":\"147cdce6-f1ff-4dac-8852-2a0eb3d4ace8\",\"type\":\"HoverTool\"},{\"attributes\":{\"source\":{\"id\":\"312f0a91-3dc3-4b8f-8444-988fb5b0fd0a\",\"type\":\"ColumnDataSource\"}},\"id\":\"6c955bf3-b475-4af9-a27b-f089fd74dce8\",\"type\":\"CDSView\"},{\"attributes\":{\"callback\":null,\"data\":{\"angle\":[5.385587406153931,0.8975979010256552,0.0],\"color\":[\"#9ecae1\",\"#6baed6\",\"#fd8d3c\"],\"index\":[\"Wohnraumoffensive Stuttgart\",\"Aufstockung Friedrichswahl\",\"Kulturelle Infrastruktur\"],\"value\":[150000000,25000000,0]},\"selected\":{\"id\":\"0959dcad-de2d-4a07-b9c4-202ea038fa2f\",\"type\":\"Selection\"},\"selection_policy\":{\"id\":\"badc6b2f-b073-49a7-bf30-904e4cb23210\",\"type\":\"UnionRenderers\"}},\"id\":\"21a710b8-8910-4e90-9f74-b5d4cef6d109\",\"type\":\"ColumnDataSource\"},{\"attributes\":{},\"id\":\"52131bcb-623c-4c91-b2be-974ba3de59b0\",\"type\":\"LinearScale\"},{\"attributes\":{\"grid_line_color\":{\"value\":null},\"plot\":{\"id\":\"7309a5a7-c284-44f3-a025-0a1a8d5afdcf\",\"subtype\":\"Figure\",\"type\":\"Plot\"},\"ticker\":{\"id\":\"c1cd086c-748d-4853-b235-349e2a7dd94a\",\"type\":\"BasicTicker\"}},\"id\":\"fbacb63e-ace8-494c-9085-e8d51f9299f2\",\"type\":\"Grid\"},{\"attributes\":{\"below\":[{\"id\":\"f4fce395-b4d7-4112-bba6-ec58a3eccd6b\",\"type\":\"LinearAxis\"}],\"left\":[{\"id\":\"702a55f4-e05b-4b85-a02c-b62404e36027\",\"type\":\"LinearAxis\"}],\"plot_height\":500,\"renderers\":[{\"id\":\"f4fce395-b4d7-4112-bba6-ec58a3eccd6b\",\"type\":\"LinearAxis\"},{\"id\":\"fbacb63e-ace8-494c-9085-e8d51f9299f2\",\"type\":\"Grid\"},{\"id\":\"702a55f4-e05b-4b85-a02c-b62404e36027\",\"type\":\"LinearAxis\"},{\"id\":\"4c8e3c6f-3d44-4bad-9443-941047dc126f\",\"type\":\"Grid\"},{\"id\":\"e06cae11-df4c-4104-9c0f-5d7f5c0cde69\",\"type\":\"GlyphRenderer\"},{\"id\":\"a204a78c-1a10-4e1a-952e-dc9a4e011f43\",\"type\":\"GlyphRenderer\"}],\"title\":{\"id\":\"d2915db2-db87-4fca-826e-dc15e8f11527\",\"type\":\"Title\"},\"toolbar\":{\"id\":\"40a56d97-c20c-4ced-9d8a-94492be8d0ce\",\"type\":\"Toolbar\"},\"toolbar_location\":\"above\",\"x_range\":{\"id\":\"ea81d475-d9c0-471a-8d88-a746ec8705e0\",\"type\":\"DataRange1d\"},\"x_scale\":{\"id\":\"aa15ed50-722b-480f-a48d-f54a1728df30\",\"type\":\"LinearScale\"},\"y_range\":{\"id\":\"1adf3a64-628a-4cbe-a6af-8997828b6988\",\"type\":\"DataRange1d\"},\"y_scale\":{\"id\":\"52131bcb-623c-4c91-b2be-974ba3de59b0\",\"type\":\"LinearScale\"}},\"id\":\"7309a5a7-c284-44f3-a025-0a1a8d5afdcf\",\"subtype\":\"Figure\",\"type\":\"Plot\"},{\"attributes\":{\"plot\":null,\"text\":\"Pie Chart\"},\"id\":\"d2915db2-db87-4fca-826e-dc15e8f11527\",\"type\":\"Title\"},{\"attributes\":{},\"id\":\"c1cd086c-748d-4853-b235-349e2a7dd94a\",\"type\":\"BasicTicker\"},{\"attributes\":{\"callback\":null},\"id\":\"ea81d475-d9c0-471a-8d88-a746ec8705e0\",\"type\":\"DataRange1d\"},{\"attributes\":{\"callback\":null,\"data\":{\"index\":[\"\\u00dcberschuss 2017\"],\"value\":{\"__ndarray__\":\"AAAA4InPtkE=\",\"dtype\":\"float64\",\"shape\":[1]}},\"selected\":{\"id\":\"2d86912b-a060-49f9-94e8-afa598a8b622\",\"type\":\"Selection\"},\"selection_policy\":{\"id\":\"51926eb5-94ba-496f-94aa-014d75551f27\",\"type\":\"UnionRenderers\"}},\"id\":\"312f0a91-3dc3-4b8f-8444-988fb5b0fd0a\",\"type\":\"ColumnDataSource\"},{\"attributes\":{\"active_drag\":\"auto\",\"active_inspect\":\"auto\",\"active_multi\":null,\"active_scroll\":\"auto\",\"active_tap\":\"auto\",\"tools\":[{\"id\":\"147cdce6-f1ff-4dac-8852-2a0eb3d4ace8\",\"type\":\"HoverTool\"}]},\"id\":\"40a56d97-c20c-4ced-9d8a-94492be8d0ce\",\"type\":\"Toolbar\"},{\"attributes\":{\"data_source\":{\"id\":\"312f0a91-3dc3-4b8f-8444-988fb5b0fd0a\",\"type\":\"ColumnDataSource\"},\"glyph\":{\"id\":\"db693bf8-76e6-4f40-9898-5940ad23faf0\",\"type\":\"Circle\"},\"hover_glyph\":null,\"muted_glyph\":null,\"nonselection_glyph\":{\"id\":\"5d746f56-6f97-466e-a934-28e738793583\",\"type\":\"Circle\"},\"selection_glyph\":null,\"view\":{\"id\":\"6c955bf3-b475-4af9-a27b-f089fd74dce8\",\"type\":\"CDSView\"}},\"id\":\"e06cae11-df4c-4104-9c0f-5d7f5c0cde69\",\"type\":\"GlyphRenderer\"},{\"attributes\":{\"data_source\":{\"id\":\"21a710b8-8910-4e90-9f74-b5d4cef6d109\",\"type\":\"ColumnDataSource\"},\"glyph\":{\"id\":\"55359472-27b4-427f-a929-531bcee385da\",\"type\":\"Wedge\"},\"hover_glyph\":null,\"muted_glyph\":null,\"nonselection_glyph\":{\"id\":\"eb99e494-5d1e-4011-beba-2859cca88ed0\",\"type\":\"Wedge\"},\"selection_glyph\":null,\"view\":{\"id\":\"03553735-e7c0-4fbc-a82f-ea1d2555966c\",\"type\":\"CDSView\"}},\"id\":\"a204a78c-1a10-4e1a-952e-dc9a4e011f43\",\"type\":\"GlyphRenderer\"},{\"attributes\":{\"axis_label\":null,\"formatter\":{\"id\":\"ac2b5de5-e48b-4f8c-b491-b89a1ac0a88d\",\"type\":\"BasicTickFormatter\"},\"plot\":{\"id\":\"7309a5a7-c284-44f3-a025-0a1a8d5afdcf\",\"subtype\":\"Figure\",\"type\":\"Plot\"},\"ticker\":{\"id\":\"69233f74-68e8-48cc-942b-d349a28a6907\",\"type\":\"BasicTicker\"},\"visible\":false},\"id\":\"702a55f4-e05b-4b85-a02c-b62404e36027\",\"type\":\"LinearAxis\"},{\"attributes\":{\"field\":\"angle\"},\"id\":\"8cd80d4e-5187-4b5b-9f07-6a0411e29317\",\"type\":\"CumSum\"},{\"attributes\":{},\"id\":\"aa15ed50-722b-480f-a48d-f54a1728df30\",\"type\":\"LinearScale\"},{\"attributes\":{},\"id\":\"71d3028f-0780-4682-a355-824b57c3b1c5\",\"type\":\"BasicTickFormatter\"},{\"attributes\":{},\"id\":\"69233f74-68e8-48cc-942b-d349a28a6907\",\"type\":\"BasicTicker\"},{\"attributes\":{\"fill_alpha\":{\"value\":0.1},\"fill_color\":{\"value\":\"#1f77b4\"},\"line_alpha\":{\"value\":0.1},\"line_color\":{\"value\":\"#1f77b4\"},\"line_width\":{\"value\":5},\"radius\":{\"units\":\"data\",\"value\":0.6},\"x\":{\"value\":-1000},\"y\":{\"value\":1}},\"id\":\"5d746f56-6f97-466e-a934-28e738793583\",\"type\":\"Circle\"},{\"attributes\":{\"end_angle\":{\"expr\":{\"id\":\"8cd80d4e-5187-4b5b-9f07-6a0411e29317\",\"type\":\"CumSum\"},\"units\":\"rad\"},\"fill_alpha\":{\"value\":0.1},\"fill_color\":{\"value\":\"#1f77b4\"},\"line_alpha\":{\"value\":0.1},\"line_color\":{\"value\":\"#1f77b4\"},\"radius\":{\"units\":\"data\",\"value\":0.40573366465829835},\"start_angle\":{\"expr\":{\"id\":\"645e6e1e-da59-4e75-bef9-d0f01e65808f\",\"type\":\"CumSum\"},\"units\":\"rad\"},\"x\":{\"value\":-1000},\"y\":{\"value\":1}},\"id\":\"eb99e494-5d1e-4011-beba-2859cca88ed0\",\"type\":\"Wedge\"},{\"attributes\":{\"source\":{\"id\":\"21a710b8-8910-4e90-9f74-b5d4cef6d109\",\"type\":\"ColumnDataSource\"}},\"id\":\"03553735-e7c0-4fbc-a82f-ea1d2555966c\",\"type\":\"CDSView\"},{\"attributes\":{\"fill_color\":{\"value\":null},\"line_color\":{\"value\":\"red\"},\"line_width\":{\"value\":5},\"radius\":{\"units\":\"data\",\"value\":0.6},\"x\":{\"value\":-1000},\"y\":{\"value\":1}},\"id\":\"db693bf8-76e6-4f40-9898-5940ad23faf0\",\"type\":\"Circle\"},{\"attributes\":{},\"id\":\"ac2b5de5-e48b-4f8c-b491-b89a1ac0a88d\",\"type\":\"BasicTickFormatter\"}],\"root_ids\":[\"7309a5a7-c284-44f3-a025-0a1a8d5afdcf\"]},\"title\":\"Bokeh Application\",\"version\":\"0.13.0\"}};\n",
       "  var render_items = [{\"docid\":\"42811a06-3a69-494e-b3cd-5470cd2bb93f\",\"roots\":{\"7309a5a7-c284-44f3-a025-0a1a8d5afdcf\":\"2a883f43-f9ce-4381-943a-ac1263cc599a\"}}];\n",
       "  root.Bokeh.embed.embed_items_notebook(docs_json, render_items);\n",
       "\n",
       "  }\n",
       "  if (root.Bokeh !== undefined) {\n",
       "    embed_document(root);\n",
       "  } else {\n",
       "    var attempts = 0;\n",
       "    var timer = setInterval(function(root) {\n",
       "      if (root.Bokeh !== undefined) {\n",
       "        embed_document(root);\n",
       "        clearInterval(timer);\n",
       "      }\n",
       "      attempts++;\n",
       "      if (attempts > 100) {\n",
       "        console.log(\"Bokeh: ERROR: Unable to run BokehJS code because BokehJS library is missing\")\n",
       "        clearInterval(timer);\n",
       "      }\n",
       "    }, 10, root)\n",
       "  }\n",
       "})(window);"
      ],
      "application/vnd.bokehjs_exec.v0+json": ""
     },
     "metadata": {
      "application/vnd.bokehjs_exec.v0+json": {
       "id": "7309a5a7-c284-44f3-a025-0a1a8d5afdcf"
      }
     },
     "output_type": "display_data"
    }
   ],
   "source": [
    "kuchen(Vorschlag_CSU)"
   ]
  },
  {
   "cell_type": "markdown",
   "metadata": {
    "slideshow": {
     "slide_type": "slide"
    }
   },
   "source": [
    "### Vorschlag Grüne"
   ]
  },
  {
   "cell_type": "code",
   "execution_count": 13,
   "metadata": {
    "slideshow": {
     "slide_type": "notes"
    }
   },
   "outputs": [],
   "source": [
    "Vorschlag_Grüne = {\n",
    "    'Rücklage Katharinenhospital':                                   [200 * million, \"Krankenhaus\"],\n",
    "    'Aufstockung Friedrichswahl':                                    [ 25 * million, \"Straßenbau\"],\n",
    "    'Kulturelle Infrastruktur':                                      [120 * million, \"Kultur\"],  # ?? versteh den Satz nicht\n",
    "    # 'Städtischer Klimaschutzfonds': 55 * million, \"Bauen & Wohnen\"],\n",
    "        'Aufstockung für städtischen Niedrigenergie-Bau':            [ 25 * million, \"Energiesparen\"],\n",
    "        'Niedrigenergie-Bau städtische Unternehmen und Sportvereine': [10 * million, \"Energiesparen\"],\n",
    "        'Enegetinsche Bestandssanierung für Privatpersonen':         [ 6 * million, \"Energiesparen\"],\n",
    "        'Förderprogramm \"Mein-Solar-Dach\"':                          [ 6 * million, \"Energiesparen\"],\n",
    "        'Förderung Green IT':                                        [ 3 * million, \"Energiesparen\"],\n",
    "    \n",
    "    # 'Sanierung und Erweiterungsbauten Oper': [167 * million, \"Kultur\"],  # die aus der Zukunft\n",
    "}"
   ]
  },
  {
   "cell_type": "code",
   "execution_count": 14,
   "metadata": {
    "slideshow": {
     "slide_type": "-"
    }
   },
   "outputs": [
    {
     "data": {
      "text/html": [
       "\n",
       "\n",
       "\n",
       "\n",
       "\n",
       "\n",
       "  <div class=\"bk-root\" id=\"4fbc53ad-4a8d-47f1-9ed6-e5b65141c7da\"></div>\n"
      ]
     },
     "metadata": {},
     "output_type": "display_data"
    },
    {
     "data": {
      "application/javascript": [
       "(function(root) {\n",
       "  function embed_document(root) {\n",
       "    \n",
       "  var docs_json = {\"6476002f-9a3f-4bf5-8506-af57442bff3f\":{\"roots\":{\"references\":[{\"attributes\":{\"grid_line_color\":{\"value\":null},\"plot\":{\"id\":\"f75bc1f0-ca91-4491-a576-6157fb2d69f9\",\"subtype\":\"Figure\",\"type\":\"Plot\"},\"ticker\":{\"id\":\"1ab7fe73-0dbf-4075-a896-78d1985f38ed\",\"type\":\"BasicTicker\"}},\"id\":\"036629ac-8a86-498a-9e36-54d67bb72a81\",\"type\":\"Grid\"},{\"attributes\":{},\"id\":\"f06c025f-9236-4cff-ba27-d08bbcf5ccec\",\"type\":\"LinearScale\"},{\"attributes\":{\"callback\":null},\"id\":\"9894f924-b347-4652-8469-952494e92eb9\",\"type\":\"DataRange1d\"},{\"attributes\":{\"axis_label\":null,\"formatter\":{\"id\":\"583b11fc-e084-4085-a814-2ee0c40e93d5\",\"type\":\"BasicTickFormatter\"},\"plot\":{\"id\":\"f75bc1f0-ca91-4491-a576-6157fb2d69f9\",\"subtype\":\"Figure\",\"type\":\"Plot\"},\"ticker\":{\"id\":\"f0b25660-ece4-4177-adac-ad133107bdd4\",\"type\":\"BasicTicker\"},\"visible\":false},\"id\":\"dbdf23da-7d6c-4454-ba36-d1d8fa01b9be\",\"type\":\"LinearAxis\"},{\"attributes\":{},\"id\":\"0cb66980-0723-4019-bf1d-a3c4cf967270\",\"type\":\"Selection\"},{\"attributes\":{\"callback\":null,\"data\":{\"index\":[\"\\u00dcberschuss 2017\"],\"value\":{\"__ndarray__\":\"AAAA4InPtkE=\",\"dtype\":\"float64\",\"shape\":[1]}},\"selected\":{\"id\":\"0cb66980-0723-4019-bf1d-a3c4cf967270\",\"type\":\"Selection\"},\"selection_policy\":{\"id\":\"628f4202-7967-46c0-a5be-427cbce4cfec\",\"type\":\"UnionRenderers\"}},\"id\":\"dbcf0d94-b0cc-48c0-8691-65138af7c508\",\"type\":\"ColumnDataSource\"},{\"attributes\":{},\"id\":\"ef970d5d-3877-40ab-be27-1d7cf457efd6\",\"type\":\"LinearScale\"},{\"attributes\":{\"plot\":null,\"text\":\"Pie Chart\"},\"id\":\"93351d15-b3dd-40e1-9aa5-45bcb10b3ed4\",\"type\":\"Title\"},{\"attributes\":{\"callback\":null,\"data\":{\"angle\":[3.181359649204854,0.39766995615060674,1.9088157895229123,0.39766995615060674,0.15906798246024267,0.09544078947614561,0.09544078947614561,0.047720394738072804],\"color\":[\"#c6dbef\",\"#6baed6\",\"#fd8d3c\",\"#74c476\",\"#74c476\",\"#74c476\",\"#74c476\",\"#74c476\"],\"index\":[\"R\\u00fccklage Katharinenhospital\",\"Aufstockung Friedrichswahl\",\"Kulturelle Infrastruktur\",\"Aufstockung f\\u00fcr st\\u00e4dtischen Niedrigenergie-Bau\",\"Niedrigenergie-Bau st\\u00e4dtische Unternehmen und Sportvereine\",\"Enegetinsche Bestandssanierung f\\u00fcr Privatpersonen\",\"F\\u00f6rderprogramm \\\"Mein-Solar-Dach\\\"\",\"F\\u00f6rderung Green IT\"],\"value\":[200000000,25000000,120000000,25000000,10000000,6000000,6000000,3000000]},\"selected\":{\"id\":\"493dccc5-f308-4277-b362-75e2b1dc6f60\",\"type\":\"Selection\"},\"selection_policy\":{\"id\":\"bbfd861f-d379-4b9e-ab36-f2420bfdd834\",\"type\":\"UnionRenderers\"}},\"id\":\"d0084724-5696-4ac0-bd78-bf9c46201fbd\",\"type\":\"ColumnDataSource\"},{\"attributes\":{},\"id\":\"f0b25660-ece4-4177-adac-ad133107bdd4\",\"type\":\"BasicTicker\"},{\"attributes\":{\"field\":\"angle\",\"include_zero\":true},\"id\":\"9e7a3708-29a0-4027-94d8-c1d374fcea22\",\"type\":\"CumSum\"},{\"attributes\":{\"data_source\":{\"id\":\"dbcf0d94-b0cc-48c0-8691-65138af7c508\",\"type\":\"ColumnDataSource\"},\"glyph\":{\"id\":\"d0664841-6e54-4f7e-80b3-9b421196e2d3\",\"type\":\"Circle\"},\"hover_glyph\":null,\"muted_glyph\":null,\"nonselection_glyph\":{\"id\":\"5587cca6-4d69-40c6-a46b-92099064bf07\",\"type\":\"Circle\"},\"selection_glyph\":null,\"view\":{\"id\":\"15863523-f31b-4a0f-a4f4-b08a1a0035ef\",\"type\":\"CDSView\"}},\"id\":\"bf20c89f-5603-4e76-8e0f-0e385a929601\",\"type\":\"GlyphRenderer\"},{\"attributes\":{\"callback\":null},\"id\":\"0a2e79b6-1539-4b64-9c16-c85a6bb656ab\",\"type\":\"DataRange1d\"},{\"attributes\":{},\"id\":\"493dccc5-f308-4277-b362-75e2b1dc6f60\",\"type\":\"Selection\"},{\"attributes\":{},\"id\":\"bbfd861f-d379-4b9e-ab36-f2420bfdd834\",\"type\":\"UnionRenderers\"},{\"attributes\":{\"end_angle\":{\"expr\":{\"id\":\"8c404bd3-9d97-429e-a722-b6381eacd8c4\",\"type\":\"CumSum\"},\"units\":\"rad\"},\"fill_alpha\":{\"value\":0.8},\"fill_color\":{\"field\":\"color\"},\"line_alpha\":{\"value\":0},\"line_color\":{\"value\":\"white\"},\"radius\":{\"units\":\"data\",\"value\":0.6095657640444232},\"start_angle\":{\"expr\":{\"id\":\"9e7a3708-29a0-4027-94d8-c1d374fcea22\",\"type\":\"CumSum\"},\"units\":\"rad\"},\"x\":{\"value\":-1000},\"y\":{\"value\":1}},\"id\":\"d28dffae-bfce-475f-ad5f-885b62f9d187\",\"type\":\"Wedge\"},{\"attributes\":{\"end_angle\":{\"expr\":{\"id\":\"8c404bd3-9d97-429e-a722-b6381eacd8c4\",\"type\":\"CumSum\"},\"units\":\"rad\"},\"fill_alpha\":{\"value\":0.1},\"fill_color\":{\"value\":\"#1f77b4\"},\"line_alpha\":{\"value\":0.1},\"line_color\":{\"value\":\"#1f77b4\"},\"radius\":{\"units\":\"data\",\"value\":0.6095657640444232},\"start_angle\":{\"expr\":{\"id\":\"9e7a3708-29a0-4027-94d8-c1d374fcea22\",\"type\":\"CumSum\"},\"units\":\"rad\"},\"x\":{\"value\":-1000},\"y\":{\"value\":1}},\"id\":\"d9cd175c-19d1-43b8-858d-2013f192fde1\",\"type\":\"Wedge\"},{\"attributes\":{\"axis_label\":null,\"formatter\":{\"id\":\"3d614162-cb34-4436-9d5a-c23b219b81f2\",\"type\":\"BasicTickFormatter\"},\"plot\":{\"id\":\"f75bc1f0-ca91-4491-a576-6157fb2d69f9\",\"subtype\":\"Figure\",\"type\":\"Plot\"},\"ticker\":{\"id\":\"1ab7fe73-0dbf-4075-a896-78d1985f38ed\",\"type\":\"BasicTicker\"},\"visible\":false},\"id\":\"a5085279-0060-42c5-9866-dbf65efb1c66\",\"type\":\"LinearAxis\"},{\"attributes\":{\"field\":\"angle\"},\"id\":\"8c404bd3-9d97-429e-a722-b6381eacd8c4\",\"type\":\"CumSum\"},{\"attributes\":{\"source\":{\"id\":\"d0084724-5696-4ac0-bd78-bf9c46201fbd\",\"type\":\"ColumnDataSource\"}},\"id\":\"cbebb2d7-3aef-40b0-890d-de75af1a60af\",\"type\":\"CDSView\"},{\"attributes\":{},\"id\":\"628f4202-7967-46c0-a5be-427cbce4cfec\",\"type\":\"UnionRenderers\"},{\"attributes\":{\"source\":{\"id\":\"dbcf0d94-b0cc-48c0-8691-65138af7c508\",\"type\":\"ColumnDataSource\"}},\"id\":\"15863523-f31b-4a0f-a4f4-b08a1a0035ef\",\"type\":\"CDSView\"},{\"attributes\":{},\"id\":\"583b11fc-e084-4085-a814-2ee0c40e93d5\",\"type\":\"BasicTickFormatter\"},{\"attributes\":{\"fill_alpha\":{\"value\":0.1},\"fill_color\":{\"value\":\"#1f77b4\"},\"line_alpha\":{\"value\":0.1},\"line_color\":{\"value\":\"#1f77b4\"},\"line_width\":{\"value\":5},\"radius\":{\"units\":\"data\",\"value\":0.6},\"x\":{\"value\":-1000},\"y\":{\"value\":1}},\"id\":\"5587cca6-4d69-40c6-a46b-92099064bf07\",\"type\":\"Circle\"},{\"attributes\":{},\"id\":\"3d614162-cb34-4436-9d5a-c23b219b81f2\",\"type\":\"BasicTickFormatter\"},{\"attributes\":{\"data_source\":{\"id\":\"d0084724-5696-4ac0-bd78-bf9c46201fbd\",\"type\":\"ColumnDataSource\"},\"glyph\":{\"id\":\"d28dffae-bfce-475f-ad5f-885b62f9d187\",\"type\":\"Wedge\"},\"hover_glyph\":null,\"muted_glyph\":null,\"nonselection_glyph\":{\"id\":\"d9cd175c-19d1-43b8-858d-2013f192fde1\",\"type\":\"Wedge\"},\"selection_glyph\":null,\"view\":{\"id\":\"cbebb2d7-3aef-40b0-890d-de75af1a60af\",\"type\":\"CDSView\"}},\"id\":\"17ed465d-3bab-400e-814e-6013cdc264ce\",\"type\":\"GlyphRenderer\"},{\"attributes\":{\"dimension\":1,\"grid_line_color\":{\"value\":null},\"plot\":{\"id\":\"f75bc1f0-ca91-4491-a576-6157fb2d69f9\",\"subtype\":\"Figure\",\"type\":\"Plot\"},\"ticker\":{\"id\":\"f0b25660-ece4-4177-adac-ad133107bdd4\",\"type\":\"BasicTicker\"}},\"id\":\"c3ee13f5-4fe9-49c6-9375-2a5a15082cf7\",\"type\":\"Grid\"},{\"attributes\":{\"fill_color\":{\"value\":null},\"line_color\":{\"value\":\"red\"},\"line_width\":{\"value\":5},\"radius\":{\"units\":\"data\",\"value\":0.6},\"x\":{\"value\":-1000},\"y\":{\"value\":1}},\"id\":\"d0664841-6e54-4f7e-80b3-9b421196e2d3\",\"type\":\"Circle\"},{\"attributes\":{\"callback\":null,\"renderers\":\"auto\",\"tooltips\":\"@index: @value{($ 0.00 a)}\"},\"id\":\"030ba514-e731-458b-9d5b-bfad8921dd10\",\"type\":\"HoverTool\"},{\"attributes\":{\"below\":[{\"id\":\"a5085279-0060-42c5-9866-dbf65efb1c66\",\"type\":\"LinearAxis\"}],\"left\":[{\"id\":\"dbdf23da-7d6c-4454-ba36-d1d8fa01b9be\",\"type\":\"LinearAxis\"}],\"plot_height\":500,\"renderers\":[{\"id\":\"a5085279-0060-42c5-9866-dbf65efb1c66\",\"type\":\"LinearAxis\"},{\"id\":\"036629ac-8a86-498a-9e36-54d67bb72a81\",\"type\":\"Grid\"},{\"id\":\"dbdf23da-7d6c-4454-ba36-d1d8fa01b9be\",\"type\":\"LinearAxis\"},{\"id\":\"c3ee13f5-4fe9-49c6-9375-2a5a15082cf7\",\"type\":\"Grid\"},{\"id\":\"bf20c89f-5603-4e76-8e0f-0e385a929601\",\"type\":\"GlyphRenderer\"},{\"id\":\"17ed465d-3bab-400e-814e-6013cdc264ce\",\"type\":\"GlyphRenderer\"}],\"title\":{\"id\":\"93351d15-b3dd-40e1-9aa5-45bcb10b3ed4\",\"type\":\"Title\"},\"toolbar\":{\"id\":\"f37b3dbd-e7f3-4306-9ae9-dd14d79f0427\",\"type\":\"Toolbar\"},\"toolbar_location\":\"above\",\"x_range\":{\"id\":\"0a2e79b6-1539-4b64-9c16-c85a6bb656ab\",\"type\":\"DataRange1d\"},\"x_scale\":{\"id\":\"f06c025f-9236-4cff-ba27-d08bbcf5ccec\",\"type\":\"LinearScale\"},\"y_range\":{\"id\":\"9894f924-b347-4652-8469-952494e92eb9\",\"type\":\"DataRange1d\"},\"y_scale\":{\"id\":\"ef970d5d-3877-40ab-be27-1d7cf457efd6\",\"type\":\"LinearScale\"}},\"id\":\"f75bc1f0-ca91-4491-a576-6157fb2d69f9\",\"subtype\":\"Figure\",\"type\":\"Plot\"},{\"attributes\":{},\"id\":\"1ab7fe73-0dbf-4075-a896-78d1985f38ed\",\"type\":\"BasicTicker\"},{\"attributes\":{\"active_drag\":\"auto\",\"active_inspect\":\"auto\",\"active_multi\":null,\"active_scroll\":\"auto\",\"active_tap\":\"auto\",\"tools\":[{\"id\":\"030ba514-e731-458b-9d5b-bfad8921dd10\",\"type\":\"HoverTool\"}]},\"id\":\"f37b3dbd-e7f3-4306-9ae9-dd14d79f0427\",\"type\":\"Toolbar\"}],\"root_ids\":[\"f75bc1f0-ca91-4491-a576-6157fb2d69f9\"]},\"title\":\"Bokeh Application\",\"version\":\"0.13.0\"}};\n",
       "  var render_items = [{\"docid\":\"6476002f-9a3f-4bf5-8506-af57442bff3f\",\"roots\":{\"f75bc1f0-ca91-4491-a576-6157fb2d69f9\":\"4fbc53ad-4a8d-47f1-9ed6-e5b65141c7da\"}}];\n",
       "  root.Bokeh.embed.embed_items_notebook(docs_json, render_items);\n",
       "\n",
       "  }\n",
       "  if (root.Bokeh !== undefined) {\n",
       "    embed_document(root);\n",
       "  } else {\n",
       "    var attempts = 0;\n",
       "    var timer = setInterval(function(root) {\n",
       "      if (root.Bokeh !== undefined) {\n",
       "        embed_document(root);\n",
       "        clearInterval(timer);\n",
       "      }\n",
       "      attempts++;\n",
       "      if (attempts > 100) {\n",
       "        console.log(\"Bokeh: ERROR: Unable to run BokehJS code because BokehJS library is missing\")\n",
       "        clearInterval(timer);\n",
       "      }\n",
       "    }, 10, root)\n",
       "  }\n",
       "})(window);"
      ],
      "application/vnd.bokehjs_exec.v0+json": ""
     },
     "metadata": {
      "application/vnd.bokehjs_exec.v0+json": {
       "id": "f75bc1f0-ca91-4491-a576-6157fb2d69f9"
      }
     },
     "output_type": "display_data"
    }
   ],
   "source": [
    "kuchen(Vorschlag_Grüne)"
   ]
  },
  {
   "cell_type": "markdown",
   "metadata": {
    "slideshow": {
     "slide_type": "slide"
    }
   },
   "source": [
    "## Und die Entscheidung? \n",
    "\n",
    "... die kann man wohl erst zwei Wochen später einem trockenen, versteckten Onlineprotokoll entnehmen..."
   ]
  },
  {
   "cell_type": "code",
   "execution_count": null,
   "metadata": {},
   "outputs": [],
   "source": []
  }
 ],
 "metadata": {
  "celltoolbar": "Slideshow",
  "kernelspec": {
   "display_name": "Python 3",
   "language": "python",
   "name": "python3"
  },
  "language_info": {
   "codemirror_mode": {
    "name": "ipython",
    "version": 3
   },
   "file_extension": ".py",
   "mimetype": "text/x-python",
   "name": "python",
   "nbconvert_exporter": "python",
   "pygments_lexer": "ipython3",
   "version": "3.6.3"
  }
 },
 "nbformat": 4,
 "nbformat_minor": 2
}
